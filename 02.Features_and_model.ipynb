{
 "cells": [
  {
   "cell_type": "markdown",
   "metadata": {
    "pycharm": {
     "name": "#%% md\n"
    }
   },
   "source": [
    "# Imports"
   ]
  },
  {
   "cell_type": "code",
   "execution_count": 1,
   "metadata": {
    "collapsed": true,
    "jupyter": {
     "outputs_hidden": true
    },
    "pycharm": {
     "name": "#%%\n"
    }
   },
   "outputs": [],
   "source": [
    "import pandas as pd\n",
    "import numpy as np\n",
    "import matplotlib.pyplot as plt\n",
    "import seaborn as sns\n",
    "from sklearn.linear_model import LinearRegression\n",
    "from sklearn.decomposition import PCA\n",
    "from sklearn.preprocessing import RobustScaler\n",
    "from sklearn.model_selection import train_test_split\n",
    "import tqdm\n",
    "\n",
    "from sklearn.neighbors import KNeighborsClassifier, RadiusNeighborsClassifier\n",
    "from sklearn.neural_network import MLPClassifier\n",
    "from sklearn.linear_model import RidgeClassifier\n",
    "from sklearn.metrics import make_scorer, log_loss, classification_report, confusion_matrix\n",
    "from sklearn.model_selection import GridSearchCV, cross_val_score"
   ]
  },
  {
   "cell_type": "markdown",
   "metadata": {
    "pycharm": {
     "name": "#%% md\n"
    }
   },
   "source": [
    "# Functions"
   ]
  },
  {
   "cell_type": "code",
   "execution_count": 2,
   "metadata": {
    "collapsed": false,
    "jupyter": {
     "outputs_hidden": false
    },
    "pycharm": {
     "name": "#%%\n"
    }
   },
   "outputs": [],
   "source": [
    "def calculateVIF(data: pd.DataFrame) -> pd.DataFrame:\n",
    "    \"\"\"\n",
    "    This function calculates the degree of multicollinearity existing among\n",
    "    different variables in a dataset.\n",
    "    As a reference, significance levels of multicollinearity are:\n",
    "    - VIF < 5: Not significant\n",
    "    - 5 < VIF < 10: Moderately significant\n",
    "    - 10 < VIF: Highly significant\n",
    "    Args:\n",
    "    - data: pandas DataFrame containing the variables.\n",
    "    returns: pandas DataFrame containing the multicollinearity level for each\n",
    "    variable.\n",
    "    \"\"\"\n",
    "    features = list(data.columns)\n",
    "    num_features = len(features)\n",
    "\n",
    "    lr_model = LinearRegression()\n",
    "\n",
    "    result = pd.DataFrame(index=['VIF'], columns=features)\n",
    "    result = result.fillna(0)\n",
    "\n",
    "    for ite in tqdm.tqdm(range(num_features)):\n",
    "        x_features = features[:]\n",
    "        y_feature = features[ite]\n",
    "        x_features.remove(y_feature)\n",
    "\n",
    "        lr_model.fit(data[x_features], data[y_feature])\n",
    "        result[y_feature] = 1 / (1 - lr_model.score(data[x_features], data[y_feature]))\n",
    "\n",
    "    return result"
   ]
  },
  {
   "cell_type": "code",
   "execution_count": 3,
   "metadata": {
    "collapsed": false,
    "jupyter": {
     "outputs_hidden": false
    },
    "pycharm": {
     "name": "#%%\n"
    }
   },
   "outputs": [],
   "source": [
    "def pca_variance_analysis(data: pd.DataFrame, step_size=10, target_variance=0.9) -> dict:\n",
    "    \"\"\"\n",
    "    Simple function to explore how much of the data variance is explained\n",
    "    when grouped by principal components.\n",
    "    The results will be shown in a line graph.\n",
    "    :param data: pd.DataFrame with the data to analyze.\n",
    "    :param step_size: int, default = 10. Number of variables reduced in each step.\n",
    "    :param target_variance: float, default = 0.9. Value between 0 and 1, indicates\n",
    "    the target for variance explained.\n",
    "    :return: dict with number of variables that explain a variance above `target_variance`.\n",
    "    \"\"\"\n",
    "    variance_explained = []\n",
    "    target = {}\n",
    "    for n_features in tqdm.tqdm(range(len(data.columns), 0, -step_size)):\n",
    "        pca_ = PCA(n_components=n_features)\n",
    "        pca_.fit_transform(data)\n",
    "        var = pca_.explained_variance_ratio_.sum()\n",
    "        var_dict = {'n_features': n_features,\n",
    "                    'variance': var}\n",
    "        variance_explained.append(var_dict)\n",
    "        if var > target_variance:\n",
    "            target = var_dict\n",
    "\n",
    "    pd.DataFrame(variance_explained).set_index('n_features').plot(figsize=(7, 5))\n",
    "    plt.title('Variance explained by number of dimensions with PCA', fontsize=18)\n",
    "    plt.show()\n",
    "\n",
    "    return target"
   ]
  },
  {
   "cell_type": "code",
   "execution_count": 4,
   "metadata": {
    "collapsed": false,
    "jupyter": {
     "outputs_hidden": false
    },
    "pycharm": {
     "name": "#%%\n"
    }
   },
   "outputs": [],
   "source": [
    "def score_optimization(params_, clf_, train_test: list, performance_: pd.DataFrame, scorer, model_label_: str):\n",
    "    \"\"\"\n",
    "    This function receives a list of parameters and a classifier object and optimizes\n",
    "    a predictive model based on them.\n",
    "    The model returns the best performing trained model.\n",
    "    :arg: params_: list of dicts with parameters to try for the model.\n",
    "    :arg: clf_: model object.\n",
    "    :arg: train_test: list containing train and test data in order [x_train, y_train, x_test, y_test].\n",
    "    :arg: performance: pd.DataFrame where the performance of the model is stored.\n",
    "    :arg: model_label: str, label to identify the model in the `performance` dataset.\n",
    "    \"\"\"\n",
    "    x_train_, y_train_, x_test_, y_test_ = [i for i in train_test]\n",
    "\n",
    "    # Load GridSearchCV\n",
    "    search = GridSearchCV(\n",
    "        estimator=clf_,\n",
    "        param_grid=params_,\n",
    "        n_jobs=-1,\n",
    "        scoring=scorer\n",
    "    )\n",
    "\n",
    "    # Train search object\n",
    "    search.fit(x_train_, y_train_)\n",
    "\n",
    "    # Heading\n",
    "    print('\\n', '-' * 40, '\\n', clf_.__class__.__name__, '\\n', '-' * 40)\n",
    "\n",
    "    # Extract best estimator\n",
    "    best = search.best_estimator_\n",
    "    print('Best parameters: \\n\\n', search.best_params_, '\\n')\n",
    "\n",
    "    # Cross-validate on the train data\n",
    "    print(\"TRAIN GROUP\")\n",
    "    train_cv_ = cross_val_score(X=x_train_, y=y_train_,\n",
    "                                estimator=best, scoring=scorer, cv=3)\n",
    "    print(\"\\nCross-validation scores:\", train_cv_)\n",
    "    print(\"Mean score:\", train_cv_.mean())\n",
    "\n",
    "    # Now predict on the test group\n",
    "    print(\"\\nTEST GROUP\")\n",
    "    y_pred_ = best.fit(x_train_, y_train_).predict(x_test_)\n",
    "    print(\"\\nScore:\", scorer(best, x_test_, y_pred_))\n",
    "\n",
    "    # Get classification report\n",
    "    # print(classification_report(y_test, y_pred_))\n",
    "\n",
    "    # Print confusion matrix\n",
    "    conf_matrix_ = confusion_matrix(y_test_.values.argmax(axis=1), y_pred_.argmax(axis=1))\n",
    "    plt.figure(figsize=(25, 25))\n",
    "    sns.heatmap(conf_matrix_, annot=False, fmt='d')\n",
    "    plt.show()\n",
    "\n",
    "    # Store results\n",
    "    performance_.loc[clf_.__class__.__name__ + model_label_, :] = [\n",
    "        train_cv_.mean(),\n",
    "        scorer(best, x_test_, y_pred_)\n",
    "    ]\n",
    "    # Look at the parameters for the top best scores\n",
    "    display(pd.DataFrame(search.cv_results_).iloc[:, 4:].sort_values(by='rank_test_score').head())\n",
    "    display(performance_)\n",
    "\n",
    "    return best, performance_"
   ]
  },
  {
   "cell_type": "markdown",
   "metadata": {
    "pycharm": {
     "name": "#%% md\n"
    }
   },
   "source": [
    "# Data loading"
   ]
  },
  {
   "cell_type": "code",
   "execution_count": 5,
   "metadata": {
    "collapsed": false,
    "jupyter": {
     "outputs_hidden": false
    },
    "pycharm": {
     "name": "#%%\n"
    }
   },
   "outputs": [],
   "source": [
    "X = pd.read_csv('train_data.csv')\n",
    "y = pd.read_csv('train_targets.csv')"
   ]
  },
  {
   "cell_type": "markdown",
   "metadata": {
    "pycharm": {
     "name": "#%% md\n"
    }
   },
   "source": [
    "# Features engineering"
   ]
  },
  {
   "cell_type": "markdown",
   "metadata": {
    "pycharm": {
     "name": "#%% md\n"
    }
   },
   "source": [
    "## Initial transformations\n",
    "\n",
    "At first, we will apply the same basic transformations done during the EDA:\n",
    "- Simplify the **id** column and setting it as index.\n",
    "- Create dummy variables from **group** and **dose** variables."
   ]
  },
  {
   "cell_type": "code",
   "execution_count": 6,
   "metadata": {
    "collapsed": false,
    "jupyter": {
     "outputs_hidden": false
    },
    "pycharm": {
     "name": "#%%\n"
    }
   },
   "outputs": [],
   "source": [
    "X_features = X.copy()\n",
    "y_features = y.copy()"
   ]
  },
  {
   "cell_type": "code",
   "execution_count": 7,
   "metadata": {
    "collapsed": false,
    "jupyter": {
     "outputs_hidden": false
    },
    "pycharm": {
     "name": "#%%\n"
    }
   },
   "outputs": [],
   "source": [
    "X_features['id'] = X['id'].str.split('-', expand=True)[0]\n",
    "X_features.set_index('id', inplace=True)\n",
    "y_features['id'] = y['id'].str.split('-', expand=True)[0]\n",
    "y_features.set_index('id', inplace=True)"
   ]
  },
  {
   "cell_type": "code",
   "execution_count": 8,
   "metadata": {
    "collapsed": false,
    "jupyter": {
     "outputs_hidden": false
    },
    "pycharm": {
     "name": "#%%\n"
    }
   },
   "outputs": [],
   "source": [
    "X_features['group'] = pd.get_dummies(X['group'], drop_first=True).values\n",
    "X_features['dose'] = pd.get_dummies(X['dose'], drop_first=True).values"
   ]
  },
  {
   "cell_type": "code",
   "execution_count": 9,
   "metadata": {
    "collapsed": false,
    "jupyter": {
     "outputs_hidden": false
    },
    "pycharm": {
     "name": "#%%\n"
    }
   },
   "outputs": [
    {
     "data": {
      "text/html": [
       "<div>\n",
       "<style scoped>\n",
       "    .dataframe tbody tr th:only-of-type {\n",
       "        vertical-align: middle;\n",
       "    }\n",
       "\n",
       "    .dataframe tbody tr th {\n",
       "        vertical-align: top;\n",
       "    }\n",
       "\n",
       "    .dataframe thead th {\n",
       "        text-align: right;\n",
       "    }\n",
       "</style>\n",
       "<table border=\"1\" class=\"dataframe\">\n",
       "  <thead>\n",
       "    <tr style=\"text-align: right;\">\n",
       "      <th></th>\n",
       "      <th>group</th>\n",
       "      <th>time</th>\n",
       "      <th>dose</th>\n",
       "      <th>gen-A</th>\n",
       "      <th>gen-B</th>\n",
       "      <th>gen-C</th>\n",
       "      <th>gen-D</th>\n",
       "      <th>gen-E</th>\n",
       "      <th>gen-F</th>\n",
       "      <th>gen-G</th>\n",
       "      <th>...</th>\n",
       "      <th>cell-CM</th>\n",
       "      <th>cell-CN</th>\n",
       "      <th>cell-CO</th>\n",
       "      <th>cell-CP</th>\n",
       "      <th>cell-CQ</th>\n",
       "      <th>cell-CR</th>\n",
       "      <th>cell-CS</th>\n",
       "      <th>cell-CT</th>\n",
       "      <th>cell-CU</th>\n",
       "      <th>cell-CV</th>\n",
       "    </tr>\n",
       "    <tr>\n",
       "      <th>id</th>\n",
       "      <th></th>\n",
       "      <th></th>\n",
       "      <th></th>\n",
       "      <th></th>\n",
       "      <th></th>\n",
       "      <th></th>\n",
       "      <th></th>\n",
       "      <th></th>\n",
       "      <th></th>\n",
       "      <th></th>\n",
       "      <th></th>\n",
       "      <th></th>\n",
       "      <th></th>\n",
       "      <th></th>\n",
       "      <th></th>\n",
       "      <th></th>\n",
       "      <th></th>\n",
       "      <th></th>\n",
       "      <th></th>\n",
       "      <th></th>\n",
       "      <th></th>\n",
       "    </tr>\n",
       "  </thead>\n",
       "  <tbody>\n",
       "    <tr>\n",
       "      <th>cb509e9c</th>\n",
       "      <td>1</td>\n",
       "      <td>72</td>\n",
       "      <td>1</td>\n",
       "      <td>34.42</td>\n",
       "      <td>-29.03</td>\n",
       "      <td>18.05</td>\n",
       "      <td>-25.10</td>\n",
       "      <td>-65.46</td>\n",
       "      <td>45.64</td>\n",
       "      <td>-10.70</td>\n",
       "      <td>...</td>\n",
       "      <td>24.060</td>\n",
       "      <td>49.310</td>\n",
       "      <td>-38.95</td>\n",
       "      <td>-1.680</td>\n",
       "      <td>-40.720</td>\n",
       "      <td>27.790</td>\n",
       "      <td>-33.190</td>\n",
       "      <td>29.110</td>\n",
       "      <td>-16.460</td>\n",
       "      <td>7.605</td>\n",
       "    </tr>\n",
       "    <tr>\n",
       "      <th>cb5223fc</th>\n",
       "      <td>1</td>\n",
       "      <td>48</td>\n",
       "      <td>0</td>\n",
       "      <td>44.37</td>\n",
       "      <td>-96.63</td>\n",
       "      <td>-15.40</td>\n",
       "      <td>-80.90</td>\n",
       "      <td>-63.53</td>\n",
       "      <td>51.57</td>\n",
       "      <td>86.05</td>\n",
       "      <td>...</td>\n",
       "      <td>-3.570</td>\n",
       "      <td>18.480</td>\n",
       "      <td>-5.99</td>\n",
       "      <td>23.500</td>\n",
       "      <td>47.355</td>\n",
       "      <td>-12.725</td>\n",
       "      <td>22.775</td>\n",
       "      <td>25.090</td>\n",
       "      <td>47.615</td>\n",
       "      <td>86.250</td>\n",
       "    </tr>\n",
       "    <tr>\n",
       "      <th>cb4eefd4</th>\n",
       "      <td>1</td>\n",
       "      <td>48</td>\n",
       "      <td>0</td>\n",
       "      <td>-44.21</td>\n",
       "      <td>18.49</td>\n",
       "      <td>-56.30</td>\n",
       "      <td>-30.42</td>\n",
       "      <td>45.53</td>\n",
       "      <td>36.99</td>\n",
       "      <td>53.55</td>\n",
       "      <td>...</td>\n",
       "      <td>-17.490</td>\n",
       "      <td>23.075</td>\n",
       "      <td>32.09</td>\n",
       "      <td>8.340</td>\n",
       "      <td>11.505</td>\n",
       "      <td>-36.765</td>\n",
       "      <td>-18.080</td>\n",
       "      <td>17.290</td>\n",
       "      <td>19.605</td>\n",
       "      <td>-13.330</td>\n",
       "    </tr>\n",
       "    <tr>\n",
       "      <th>cb597490</th>\n",
       "      <td>1</td>\n",
       "      <td>72</td>\n",
       "      <td>1</td>\n",
       "      <td>74.55</td>\n",
       "      <td>9.17</td>\n",
       "      <td>-23.59</td>\n",
       "      <td>64.05</td>\n",
       "      <td>-7.77</td>\n",
       "      <td>29.50</td>\n",
       "      <td>18.01</td>\n",
       "      <td>...</td>\n",
       "      <td>58.550</td>\n",
       "      <td>45.470</td>\n",
       "      <td>-34.90</td>\n",
       "      <td>-33.865</td>\n",
       "      <td>82.400</td>\n",
       "      <td>43.045</td>\n",
       "      <td>17.040</td>\n",
       "      <td>30.080</td>\n",
       "      <td>50.950</td>\n",
       "      <td>1.190</td>\n",
       "    </tr>\n",
       "    <tr>\n",
       "      <th>cb54218e</th>\n",
       "      <td>1</td>\n",
       "      <td>48</td>\n",
       "      <td>1</td>\n",
       "      <td>-9.22</td>\n",
       "      <td>4.81</td>\n",
       "      <td>-28.27</td>\n",
       "      <td>50.63</td>\n",
       "      <td>8.17</td>\n",
       "      <td>37.92</td>\n",
       "      <td>-18.90</td>\n",
       "      <td>...</td>\n",
       "      <td>36.455</td>\n",
       "      <td>62.700</td>\n",
       "      <td>10.43</td>\n",
       "      <td>36.790</td>\n",
       "      <td>26.835</td>\n",
       "      <td>8.430</td>\n",
       "      <td>48.200</td>\n",
       "      <td>8.795</td>\n",
       "      <td>56.500</td>\n",
       "      <td>44.490</td>\n",
       "    </tr>\n",
       "  </tbody>\n",
       "</table>\n",
       "<p>5 rows × 875 columns</p>\n",
       "</div>"
      ],
      "text/plain": [
       "          group  time  dose  gen-A  gen-B  gen-C  gen-D  gen-E  gen-F  gen-G  \\\n",
       "id                                                                             \n",
       "cb509e9c      1    72     1  34.42 -29.03  18.05 -25.10 -65.46  45.64 -10.70   \n",
       "cb5223fc      1    48     0  44.37 -96.63 -15.40 -80.90 -63.53  51.57  86.05   \n",
       "cb4eefd4      1    48     0 -44.21  18.49 -56.30 -30.42  45.53  36.99  53.55   \n",
       "cb597490      1    72     1  74.55   9.17 -23.59  64.05  -7.77  29.50  18.01   \n",
       "cb54218e      1    48     1  -9.22   4.81 -28.27  50.63   8.17  37.92 -18.90   \n",
       "\n",
       "          ...  cell-CM  cell-CN  cell-CO  cell-CP  cell-CQ  cell-CR  cell-CS  \\\n",
       "id        ...                                                                  \n",
       "cb509e9c  ...   24.060   49.310   -38.95   -1.680  -40.720   27.790  -33.190   \n",
       "cb5223fc  ...   -3.570   18.480    -5.99   23.500   47.355  -12.725   22.775   \n",
       "cb4eefd4  ...  -17.490   23.075    32.09    8.340   11.505  -36.765  -18.080   \n",
       "cb597490  ...   58.550   45.470   -34.90  -33.865   82.400   43.045   17.040   \n",
       "cb54218e  ...   36.455   62.700    10.43   36.790   26.835    8.430   48.200   \n",
       "\n",
       "          cell-CT  cell-CU  cell-CV  \n",
       "id                                   \n",
       "cb509e9c   29.110  -16.460    7.605  \n",
       "cb5223fc   25.090   47.615   86.250  \n",
       "cb4eefd4   17.290   19.605  -13.330  \n",
       "cb597490   30.080   50.950    1.190  \n",
       "cb54218e    8.795   56.500   44.490  \n",
       "\n",
       "[5 rows x 875 columns]"
      ]
     },
     "execution_count": 9,
     "metadata": {},
     "output_type": "execute_result"
    }
   ],
   "source": [
    "X_features.head()"
   ]
  },
  {
   "cell_type": "markdown",
   "metadata": {
    "pycharm": {
     "name": "#%% md\n"
    }
   },
   "source": [
    "## Multicollinearity exploration with VIF\n",
    "\n",
    "VIF (Variance Inflation Factor) can show us if some variables from our dataset have a **high linear dependency** from each other.\n",
    "\n",
    "Multicollinearity is known to cause **type II errors**, so it is a good idea to reduce it by selecting only features with a low VIF value."
   ]
  },
  {
   "cell_type": "code",
   "execution_count": 10,
   "metadata": {
    "collapsed": false,
    "jupyter": {
     "outputs_hidden": false
    },
    "pycharm": {
     "name": "#%%\n"
    }
   },
   "outputs": [
    {
     "name": "stderr",
     "output_type": "stream",
     "text": [
      "100%|██████████| 875/875 [55:18<00:00,  3.79s/it]\n"
     ]
    }
   ],
   "source": [
    "# Function that will return VIF score for each original variable\n",
    "X_VIF = calculateVIF(X_features)"
   ]
  },
  {
   "cell_type": "code",
   "execution_count": 11,
   "metadata": {
    "collapsed": false,
    "jupyter": {
     "outputs_hidden": false
    },
    "pycharm": {
     "name": "#%%\n"
    }
   },
   "outputs": [
    {
     "data": {
      "text/html": [
       "<div>\n",
       "<style scoped>\n",
       "    .dataframe tbody tr th:only-of-type {\n",
       "        vertical-align: middle;\n",
       "    }\n",
       "\n",
       "    .dataframe tbody tr th {\n",
       "        vertical-align: top;\n",
       "    }\n",
       "\n",
       "    .dataframe thead th {\n",
       "        text-align: right;\n",
       "    }\n",
       "</style>\n",
       "<table border=\"1\" class=\"dataframe\">\n",
       "  <thead>\n",
       "    <tr style=\"text-align: right;\">\n",
       "      <th></th>\n",
       "      <th>group</th>\n",
       "      <th>time</th>\n",
       "      <th>dose</th>\n",
       "      <th>gen-A</th>\n",
       "      <th>gen-B</th>\n",
       "      <th>gen-C</th>\n",
       "      <th>gen-D</th>\n",
       "      <th>gen-E</th>\n",
       "      <th>gen-F</th>\n",
       "      <th>gen-G</th>\n",
       "      <th>...</th>\n",
       "      <th>cell-CM</th>\n",
       "      <th>cell-CN</th>\n",
       "      <th>cell-CO</th>\n",
       "      <th>cell-CP</th>\n",
       "      <th>cell-CQ</th>\n",
       "      <th>cell-CR</th>\n",
       "      <th>cell-CS</th>\n",
       "      <th>cell-CT</th>\n",
       "      <th>cell-CU</th>\n",
       "      <th>cell-CV</th>\n",
       "    </tr>\n",
       "  </thead>\n",
       "  <tbody>\n",
       "    <tr>\n",
       "      <th>VIF</th>\n",
       "      <td>1.55962</td>\n",
       "      <td>1.957306</td>\n",
       "      <td>3.369881</td>\n",
       "      <td>8.068402</td>\n",
       "      <td>2.659297</td>\n",
       "      <td>2.076038</td>\n",
       "      <td>2.325979</td>\n",
       "      <td>2.806296</td>\n",
       "      <td>2.168436</td>\n",
       "      <td>3.266073</td>\n",
       "      <td>...</td>\n",
       "      <td>16.478887</td>\n",
       "      <td>14.601478</td>\n",
       "      <td>12.470082</td>\n",
       "      <td>14.437124</td>\n",
       "      <td>18.50262</td>\n",
       "      <td>8.07982</td>\n",
       "      <td>13.4784</td>\n",
       "      <td>11.663914</td>\n",
       "      <td>9.544971</td>\n",
       "      <td>7.036768</td>\n",
       "    </tr>\n",
       "  </tbody>\n",
       "</table>\n",
       "<p>1 rows × 875 columns</p>\n",
       "</div>"
      ],
      "text/plain": [
       "       group      time      dose     gen-A     gen-B     gen-C     gen-D  \\\n",
       "VIF  1.55962  1.957306  3.369881  8.068402  2.659297  2.076038  2.325979   \n",
       "\n",
       "        gen-E     gen-F     gen-G  ...    cell-CM    cell-CN    cell-CO  \\\n",
       "VIF  2.806296  2.168436  3.266073  ...  16.478887  14.601478  12.470082   \n",
       "\n",
       "       cell-CP   cell-CQ  cell-CR  cell-CS    cell-CT   cell-CU   cell-CV  \n",
       "VIF  14.437124  18.50262  8.07982  13.4784  11.663914  9.544971  7.036768  \n",
       "\n",
       "[1 rows x 875 columns]"
      ]
     },
     "execution_count": 11,
     "metadata": {},
     "output_type": "execute_result"
    }
   ],
   "source": [
    "X_VIF"
   ]
  },
  {
   "cell_type": "markdown",
   "metadata": {
    "pycharm": {
     "name": "#%% md\n"
    }
   },
   "source": [
    "As a reference, significance levels of multicollinearity are:\n",
    "   - VIF < 5: Not significant\n",
    "   - 5 < VIF < 10: Moderately significant\n",
    "   - 10 < VIF: Highly significant\n",
    "\n",
    "We are going to try sticking with features under 5 and under 10 and compare results later with each selection."
   ]
  },
  {
   "cell_type": "code",
   "execution_count": 12,
   "metadata": {
    "collapsed": false,
    "jupyter": {
     "outputs_hidden": false
    },
    "pycharm": {
     "name": "#%%\n"
    }
   },
   "outputs": [
    {
     "name": "stdout",
     "output_type": "stream",
     "text": [
      "Number of variables with a VIF over 10: 93\n",
      "Number of variables with a VIF over 5: 261\n"
     ]
    }
   ],
   "source": [
    "print(f'Number of variables with a VIF over 10: {(X_VIF.values > 10).sum()}')\n",
    "print(f'Number of variables with a VIF over 5: {(X_VIF.values > 5).sum()}')"
   ]
  },
  {
   "cell_type": "code",
   "execution_count": 13,
   "metadata": {
    "collapsed": false,
    "jupyter": {
     "outputs_hidden": false
    },
    "pycharm": {
     "name": "#%%\n"
    }
   },
   "outputs": [],
   "source": [
    "VIF_10 = [col for col in X_VIF if X_VIF.loc['VIF', col] < 10]\n",
    "VIF_5 = [col for col in X_VIF if X_VIF.loc['VIF', col] < 5]\n",
    "\n",
    "X_features_VIF10 = X_features[VIF_10]\n",
    "X_features_VIF5 = X_features[VIF_5]"
   ]
  },
  {
   "cell_type": "code",
   "execution_count": 14,
   "metadata": {
    "collapsed": false,
    "jupyter": {
     "outputs_hidden": false
    },
    "pycharm": {
     "name": "#%%\n"
    }
   },
   "outputs": [
    {
     "data": {
      "text/html": [
       "<div>\n",
       "<style scoped>\n",
       "    .dataframe tbody tr th:only-of-type {\n",
       "        vertical-align: middle;\n",
       "    }\n",
       "\n",
       "    .dataframe tbody tr th {\n",
       "        vertical-align: top;\n",
       "    }\n",
       "\n",
       "    .dataframe thead th {\n",
       "        text-align: right;\n",
       "    }\n",
       "</style>\n",
       "<table border=\"1\" class=\"dataframe\">\n",
       "  <thead>\n",
       "    <tr style=\"text-align: right;\">\n",
       "      <th></th>\n",
       "      <th>group</th>\n",
       "      <th>time</th>\n",
       "      <th>dose</th>\n",
       "      <th>gen-B</th>\n",
       "      <th>gen-C</th>\n",
       "      <th>gen-D</th>\n",
       "      <th>gen-E</th>\n",
       "      <th>gen-F</th>\n",
       "      <th>gen-G</th>\n",
       "      <th>gen-J</th>\n",
       "      <th>...</th>\n",
       "      <th>gen-ACJ</th>\n",
       "      <th>gen-ACK</th>\n",
       "      <th>gen-ACL</th>\n",
       "      <th>gen-ACM</th>\n",
       "      <th>gen-ACN</th>\n",
       "      <th>gen-ACO</th>\n",
       "      <th>gen-ACP</th>\n",
       "      <th>gen-ACR</th>\n",
       "      <th>cell-BG</th>\n",
       "      <th>cell-BW</th>\n",
       "    </tr>\n",
       "    <tr>\n",
       "      <th>id</th>\n",
       "      <th></th>\n",
       "      <th></th>\n",
       "      <th></th>\n",
       "      <th></th>\n",
       "      <th></th>\n",
       "      <th></th>\n",
       "      <th></th>\n",
       "      <th></th>\n",
       "      <th></th>\n",
       "      <th></th>\n",
       "      <th></th>\n",
       "      <th></th>\n",
       "      <th></th>\n",
       "      <th></th>\n",
       "      <th></th>\n",
       "      <th></th>\n",
       "      <th></th>\n",
       "      <th></th>\n",
       "      <th></th>\n",
       "      <th></th>\n",
       "      <th></th>\n",
       "    </tr>\n",
       "  </thead>\n",
       "  <tbody>\n",
       "    <tr>\n",
       "      <th>cb509e9c</th>\n",
       "      <td>1</td>\n",
       "      <td>72</td>\n",
       "      <td>1</td>\n",
       "      <td>-29.03</td>\n",
       "      <td>18.05</td>\n",
       "      <td>-25.10</td>\n",
       "      <td>-65.46</td>\n",
       "      <td>45.64</td>\n",
       "      <td>-10.70</td>\n",
       "      <td>-21.01</td>\n",
       "      <td>...</td>\n",
       "      <td>-2.80</td>\n",
       "      <td>20.97</td>\n",
       "      <td>-89.53</td>\n",
       "      <td>-63.27</td>\n",
       "      <td>-111.40</td>\n",
       "      <td>136.50</td>\n",
       "      <td>89.03</td>\n",
       "      <td>12.42</td>\n",
       "      <td>-7.175</td>\n",
       "      <td>18.615</td>\n",
       "    </tr>\n",
       "    <tr>\n",
       "      <th>cb5223fc</th>\n",
       "      <td>1</td>\n",
       "      <td>48</td>\n",
       "      <td>0</td>\n",
       "      <td>-96.63</td>\n",
       "      <td>-15.40</td>\n",
       "      <td>-80.90</td>\n",
       "      <td>-63.53</td>\n",
       "      <td>51.57</td>\n",
       "      <td>86.05</td>\n",
       "      <td>18.37</td>\n",
       "      <td>...</td>\n",
       "      <td>-26.47</td>\n",
       "      <td>-111.50</td>\n",
       "      <td>48.76</td>\n",
       "      <td>-171.60</td>\n",
       "      <td>-56.64</td>\n",
       "      <td>-28.22</td>\n",
       "      <td>-41.12</td>\n",
       "      <td>-37.23</td>\n",
       "      <td>27.285</td>\n",
       "      <td>13.030</td>\n",
       "    </tr>\n",
       "    <tr>\n",
       "      <th>cb4eefd4</th>\n",
       "      <td>1</td>\n",
       "      <td>48</td>\n",
       "      <td>0</td>\n",
       "      <td>18.49</td>\n",
       "      <td>-56.30</td>\n",
       "      <td>-30.42</td>\n",
       "      <td>45.53</td>\n",
       "      <td>36.99</td>\n",
       "      <td>53.55</td>\n",
       "      <td>-26.06</td>\n",
       "      <td>...</td>\n",
       "      <td>-44.42</td>\n",
       "      <td>14.74</td>\n",
       "      <td>-115.00</td>\n",
       "      <td>-48.16</td>\n",
       "      <td>5.54</td>\n",
       "      <td>-10.82</td>\n",
       "      <td>-37.71</td>\n",
       "      <td>12.66</td>\n",
       "      <td>-62.800</td>\n",
       "      <td>26.070</td>\n",
       "    </tr>\n",
       "    <tr>\n",
       "      <th>cb597490</th>\n",
       "      <td>1</td>\n",
       "      <td>72</td>\n",
       "      <td>1</td>\n",
       "      <td>9.17</td>\n",
       "      <td>-23.59</td>\n",
       "      <td>64.05</td>\n",
       "      <td>-7.77</td>\n",
       "      <td>29.50</td>\n",
       "      <td>18.01</td>\n",
       "      <td>-64.91</td>\n",
       "      <td>...</td>\n",
       "      <td>-13.80</td>\n",
       "      <td>-43.96</td>\n",
       "      <td>10.10</td>\n",
       "      <td>-108.30</td>\n",
       "      <td>-46.39</td>\n",
       "      <td>-10.30</td>\n",
       "      <td>-163.50</td>\n",
       "      <td>-69.84</td>\n",
       "      <td>-39.720</td>\n",
       "      <td>-4.505</td>\n",
       "    </tr>\n",
       "    <tr>\n",
       "      <th>cb54218e</th>\n",
       "      <td>1</td>\n",
       "      <td>48</td>\n",
       "      <td>1</td>\n",
       "      <td>4.81</td>\n",
       "      <td>-28.27</td>\n",
       "      <td>50.63</td>\n",
       "      <td>8.17</td>\n",
       "      <td>37.92</td>\n",
       "      <td>-18.90</td>\n",
       "      <td>-32.82</td>\n",
       "      <td>...</td>\n",
       "      <td>64.38</td>\n",
       "      <td>-62.23</td>\n",
       "      <td>-105.50</td>\n",
       "      <td>-181.20</td>\n",
       "      <td>3.49</td>\n",
       "      <td>102.30</td>\n",
       "      <td>-11.03</td>\n",
       "      <td>40.96</td>\n",
       "      <td>43.520</td>\n",
       "      <td>19.865</td>\n",
       "    </tr>\n",
       "  </tbody>\n",
       "</table>\n",
       "<p>5 rows × 614 columns</p>\n",
       "</div>"
      ],
      "text/plain": [
       "          group  time  dose  gen-B  gen-C  gen-D  gen-E  gen-F  gen-G  gen-J  \\\n",
       "id                                                                             \n",
       "cb509e9c      1    72     1 -29.03  18.05 -25.10 -65.46  45.64 -10.70 -21.01   \n",
       "cb5223fc      1    48     0 -96.63 -15.40 -80.90 -63.53  51.57  86.05  18.37   \n",
       "cb4eefd4      1    48     0  18.49 -56.30 -30.42  45.53  36.99  53.55 -26.06   \n",
       "cb597490      1    72     1   9.17 -23.59  64.05  -7.77  29.50  18.01 -64.91   \n",
       "cb54218e      1    48     1   4.81 -28.27  50.63   8.17  37.92 -18.90 -32.82   \n",
       "\n",
       "          ...  gen-ACJ  gen-ACK  gen-ACL  gen-ACM  gen-ACN  gen-ACO  gen-ACP  \\\n",
       "id        ...                                                                  \n",
       "cb509e9c  ...    -2.80    20.97   -89.53   -63.27  -111.40   136.50    89.03   \n",
       "cb5223fc  ...   -26.47  -111.50    48.76  -171.60   -56.64   -28.22   -41.12   \n",
       "cb4eefd4  ...   -44.42    14.74  -115.00   -48.16     5.54   -10.82   -37.71   \n",
       "cb597490  ...   -13.80   -43.96    10.10  -108.30   -46.39   -10.30  -163.50   \n",
       "cb54218e  ...    64.38   -62.23  -105.50  -181.20     3.49   102.30   -11.03   \n",
       "\n",
       "          gen-ACR  cell-BG  cell-BW  \n",
       "id                                   \n",
       "cb509e9c    12.42   -7.175   18.615  \n",
       "cb5223fc   -37.23   27.285   13.030  \n",
       "cb4eefd4    12.66  -62.800   26.070  \n",
       "cb597490   -69.84  -39.720   -4.505  \n",
       "cb54218e    40.96   43.520   19.865  \n",
       "\n",
       "[5 rows x 614 columns]"
      ]
     },
     "execution_count": 14,
     "metadata": {},
     "output_type": "execute_result"
    }
   ],
   "source": [
    "X_features_VIF5.head()"
   ]
  },
  {
   "cell_type": "code",
   "execution_count": 15,
   "metadata": {
    "collapsed": false,
    "jupyter": {
     "outputs_hidden": false
    },
    "pycharm": {
     "name": "#%%\n"
    }
   },
   "outputs": [
    {
     "data": {
      "text/html": [
       "<div>\n",
       "<style scoped>\n",
       "    .dataframe tbody tr th:only-of-type {\n",
       "        vertical-align: middle;\n",
       "    }\n",
       "\n",
       "    .dataframe tbody tr th {\n",
       "        vertical-align: top;\n",
       "    }\n",
       "\n",
       "    .dataframe thead th {\n",
       "        text-align: right;\n",
       "    }\n",
       "</style>\n",
       "<table border=\"1\" class=\"dataframe\">\n",
       "  <thead>\n",
       "    <tr style=\"text-align: right;\">\n",
       "      <th></th>\n",
       "      <th>group</th>\n",
       "      <th>time</th>\n",
       "      <th>dose</th>\n",
       "      <th>gen-A</th>\n",
       "      <th>gen-B</th>\n",
       "      <th>gen-C</th>\n",
       "      <th>gen-D</th>\n",
       "      <th>gen-E</th>\n",
       "      <th>gen-F</th>\n",
       "      <th>gen-G</th>\n",
       "      <th>...</th>\n",
       "      <th>cell-BW</th>\n",
       "      <th>cell-BY</th>\n",
       "      <th>cell-BZ</th>\n",
       "      <th>cell-CI</th>\n",
       "      <th>cell-CJ</th>\n",
       "      <th>cell-CK</th>\n",
       "      <th>cell-CL</th>\n",
       "      <th>cell-CR</th>\n",
       "      <th>cell-CU</th>\n",
       "      <th>cell-CV</th>\n",
       "    </tr>\n",
       "    <tr>\n",
       "      <th>id</th>\n",
       "      <th></th>\n",
       "      <th></th>\n",
       "      <th></th>\n",
       "      <th></th>\n",
       "      <th></th>\n",
       "      <th></th>\n",
       "      <th></th>\n",
       "      <th></th>\n",
       "      <th></th>\n",
       "      <th></th>\n",
       "      <th></th>\n",
       "      <th></th>\n",
       "      <th></th>\n",
       "      <th></th>\n",
       "      <th></th>\n",
       "      <th></th>\n",
       "      <th></th>\n",
       "      <th></th>\n",
       "      <th></th>\n",
       "      <th></th>\n",
       "      <th></th>\n",
       "    </tr>\n",
       "  </thead>\n",
       "  <tbody>\n",
       "    <tr>\n",
       "      <th>cb509e9c</th>\n",
       "      <td>1</td>\n",
       "      <td>72</td>\n",
       "      <td>1</td>\n",
       "      <td>34.42</td>\n",
       "      <td>-29.03</td>\n",
       "      <td>18.05</td>\n",
       "      <td>-25.10</td>\n",
       "      <td>-65.46</td>\n",
       "      <td>45.64</td>\n",
       "      <td>-10.70</td>\n",
       "      <td>...</td>\n",
       "      <td>18.615</td>\n",
       "      <td>-26.220</td>\n",
       "      <td>26.265</td>\n",
       "      <td>-10.980</td>\n",
       "      <td>10.480</td>\n",
       "      <td>18.425</td>\n",
       "      <td>14.005</td>\n",
       "      <td>27.790</td>\n",
       "      <td>-16.460</td>\n",
       "      <td>7.605</td>\n",
       "    </tr>\n",
       "    <tr>\n",
       "      <th>cb5223fc</th>\n",
       "      <td>1</td>\n",
       "      <td>48</td>\n",
       "      <td>0</td>\n",
       "      <td>44.37</td>\n",
       "      <td>-96.63</td>\n",
       "      <td>-15.40</td>\n",
       "      <td>-80.90</td>\n",
       "      <td>-63.53</td>\n",
       "      <td>51.57</td>\n",
       "      <td>86.05</td>\n",
       "      <td>...</td>\n",
       "      <td>13.030</td>\n",
       "      <td>-4.985</td>\n",
       "      <td>25.695</td>\n",
       "      <td>-27.415</td>\n",
       "      <td>-1.610</td>\n",
       "      <td>-36.740</td>\n",
       "      <td>0.485</td>\n",
       "      <td>-12.725</td>\n",
       "      <td>47.615</td>\n",
       "      <td>86.250</td>\n",
       "    </tr>\n",
       "    <tr>\n",
       "      <th>cb4eefd4</th>\n",
       "      <td>1</td>\n",
       "      <td>48</td>\n",
       "      <td>0</td>\n",
       "      <td>-44.21</td>\n",
       "      <td>18.49</td>\n",
       "      <td>-56.30</td>\n",
       "      <td>-30.42</td>\n",
       "      <td>45.53</td>\n",
       "      <td>36.99</td>\n",
       "      <td>53.55</td>\n",
       "      <td>...</td>\n",
       "      <td>26.070</td>\n",
       "      <td>-44.750</td>\n",
       "      <td>-16.190</td>\n",
       "      <td>39.000</td>\n",
       "      <td>19.095</td>\n",
       "      <td>13.050</td>\n",
       "      <td>11.090</td>\n",
       "      <td>-36.765</td>\n",
       "      <td>19.605</td>\n",
       "      <td>-13.330</td>\n",
       "    </tr>\n",
       "    <tr>\n",
       "      <th>cb597490</th>\n",
       "      <td>1</td>\n",
       "      <td>72</td>\n",
       "      <td>1</td>\n",
       "      <td>74.55</td>\n",
       "      <td>9.17</td>\n",
       "      <td>-23.59</td>\n",
       "      <td>64.05</td>\n",
       "      <td>-7.77</td>\n",
       "      <td>29.50</td>\n",
       "      <td>18.01</td>\n",
       "      <td>...</td>\n",
       "      <td>-4.505</td>\n",
       "      <td>4.615</td>\n",
       "      <td>25.505</td>\n",
       "      <td>-5.165</td>\n",
       "      <td>-9.220</td>\n",
       "      <td>32.525</td>\n",
       "      <td>30.325</td>\n",
       "      <td>43.045</td>\n",
       "      <td>50.950</td>\n",
       "      <td>1.190</td>\n",
       "    </tr>\n",
       "    <tr>\n",
       "      <th>cb54218e</th>\n",
       "      <td>1</td>\n",
       "      <td>48</td>\n",
       "      <td>1</td>\n",
       "      <td>-9.22</td>\n",
       "      <td>4.81</td>\n",
       "      <td>-28.27</td>\n",
       "      <td>50.63</td>\n",
       "      <td>8.17</td>\n",
       "      <td>37.92</td>\n",
       "      <td>-18.90</td>\n",
       "      <td>...</td>\n",
       "      <td>19.865</td>\n",
       "      <td>31.375</td>\n",
       "      <td>12.300</td>\n",
       "      <td>-49.795</td>\n",
       "      <td>49.165</td>\n",
       "      <td>-32.130</td>\n",
       "      <td>20.305</td>\n",
       "      <td>8.430</td>\n",
       "      <td>56.500</td>\n",
       "      <td>44.490</td>\n",
       "    </tr>\n",
       "  </tbody>\n",
       "</table>\n",
       "<p>5 rows × 782 columns</p>\n",
       "</div>"
      ],
      "text/plain": [
       "          group  time  dose  gen-A  gen-B  gen-C  gen-D  gen-E  gen-F  gen-G  \\\n",
       "id                                                                             \n",
       "cb509e9c      1    72     1  34.42 -29.03  18.05 -25.10 -65.46  45.64 -10.70   \n",
       "cb5223fc      1    48     0  44.37 -96.63 -15.40 -80.90 -63.53  51.57  86.05   \n",
       "cb4eefd4      1    48     0 -44.21  18.49 -56.30 -30.42  45.53  36.99  53.55   \n",
       "cb597490      1    72     1  74.55   9.17 -23.59  64.05  -7.77  29.50  18.01   \n",
       "cb54218e      1    48     1  -9.22   4.81 -28.27  50.63   8.17  37.92 -18.90   \n",
       "\n",
       "          ...  cell-BW  cell-BY  cell-BZ  cell-CI  cell-CJ  cell-CK  cell-CL  \\\n",
       "id        ...                                                                  \n",
       "cb509e9c  ...   18.615  -26.220   26.265  -10.980   10.480   18.425   14.005   \n",
       "cb5223fc  ...   13.030   -4.985   25.695  -27.415   -1.610  -36.740    0.485   \n",
       "cb4eefd4  ...   26.070  -44.750  -16.190   39.000   19.095   13.050   11.090   \n",
       "cb597490  ...   -4.505    4.615   25.505   -5.165   -9.220   32.525   30.325   \n",
       "cb54218e  ...   19.865   31.375   12.300  -49.795   49.165  -32.130   20.305   \n",
       "\n",
       "          cell-CR  cell-CU  cell-CV  \n",
       "id                                   \n",
       "cb509e9c   27.790  -16.460    7.605  \n",
       "cb5223fc  -12.725   47.615   86.250  \n",
       "cb4eefd4  -36.765   19.605  -13.330  \n",
       "cb597490   43.045   50.950    1.190  \n",
       "cb54218e    8.430   56.500   44.490  \n",
       "\n",
       "[5 rows x 782 columns]"
      ]
     },
     "execution_count": 15,
     "metadata": {},
     "output_type": "execute_result"
    }
   ],
   "source": [
    "X_features_VIF10.head()"
   ]
  },
  {
   "cell_type": "markdown",
   "metadata": {
    "pycharm": {
     "name": "#%% md\n"
    }
   },
   "source": [
    "## Dimensionality reduction with PCA\n",
    "\n",
    "PCA (Principal Components Analysis) is a method to combine the variables of a dataset by combining them linearly in such a way that they capture as much variance as possible with a reduced amount of dimensions.\n",
    "\n",
    "This method is useful to reduce computing complexity as well as creating clearer visualizations with a reduced number of variables."
   ]
  },
  {
   "cell_type": "code",
   "execution_count": 16,
   "metadata": {
    "collapsed": false,
    "jupyter": {
     "outputs_hidden": false
    },
    "pycharm": {
     "name": "#%%\n"
    }
   },
   "outputs": [
    {
     "name": "stderr",
     "output_type": "stream",
     "text": [
      "100%|██████████| 88/88 [08:10<00:00,  5.58s/it]\n"
     ]
    },
    {
     "data": {
      "image/png": "[encoded data removed]",
      "text/plain": [
       "<Figure size 504x360 with 1 Axes>"
      ]
     },
     "metadata": {
      "needs_background": "light"
     },
     "output_type": "display_data"
    },
    {
     "data": {
      "text/plain": [
       "{'n_features': 365, 'variance': 0.9027016260152394}"
      ]
     },
     "execution_count": 16,
     "metadata": {},
     "output_type": "execute_result"
    }
   ],
   "source": [
    "pca_variance_analysis(X_features)"
   ]
  },
  {
   "cell_type": "code",
   "execution_count": 17,
   "metadata": {
    "collapsed": false,
    "jupyter": {
     "outputs_hidden": false
    },
    "pycharm": {
     "name": "#%%\n"
    }
   },
   "outputs": [
    {
     "name": "stderr",
     "output_type": "stream",
     "text": [
      "100%|██████████| 79/79 [05:11<00:00,  3.94s/it]\n"
     ]
    },
    {
     "data": {
      "image/png": "[encoded data removed]",
      "text/plain": [
       "<Figure size 504x360 with 1 Axes>"
      ]
     },
     "metadata": {
      "needs_background": "light"
     },
     "output_type": "display_data"
    },
    {
     "data": {
      "text/plain": [
       "{'n_features': 372, 'variance': 0.9034227101506237}"
      ]
     },
     "execution_count": 17,
     "metadata": {},
     "output_type": "execute_result"
    }
   ],
   "source": [
    "pca_variance_analysis(X_features_VIF10)"
   ]
  },
  {
   "cell_type": "code",
   "execution_count": 18,
   "metadata": {
    "collapsed": false,
    "jupyter": {
     "outputs_hidden": false
    },
    "pycharm": {
     "name": "#%%\n"
    }
   },
   "outputs": [
    {
     "name": "stderr",
     "output_type": "stream",
     "text": [
      "100%|██████████| 62/62 [02:41<00:00,  2.60s/it]\n"
     ]
    },
    {
     "data": {
      "image/png": "[encoded data removed]",
      "text/plain": [
       "<Figure size 504x360 with 1 Axes>"
      ]
     },
     "metadata": {
      "needs_background": "light"
     },
     "output_type": "display_data"
    },
    {
     "data": {
      "text/plain": [
       "{'n_features': 344, 'variance': 0.9024007898653321}"
      ]
     },
     "execution_count": 18,
     "metadata": {},
     "output_type": "execute_result"
    }
   ],
   "source": [
    "pca_variance_analysis(X_features_VIF5)"
   ]
  },
  {
   "cell_type": "markdown",
   "metadata": {
    "pycharm": {
     "name": "#%% md\n"
    }
   },
   "source": [
    "From the plots above we can't se an obvious point where a dimensionality reduction using principal components would create a big advantage.\n",
    "\n",
    "However, 90% of the variance seems to be consistently explained by a little over 300 dimensions. This could be useful in case we want to do a first round of models training with a less computing demanding dataset."
   ]
  },
  {
   "cell_type": "code",
   "execution_count": 19,
   "metadata": {
    "collapsed": false,
    "jupyter": {
     "outputs_hidden": false
    },
    "pycharm": {
     "name": "#%%\n"
    }
   },
   "outputs": [],
   "source": [
    "pca = PCA(n_components=344)\n",
    "pca_features = pca.fit_transform(X_features_VIF5)"
   ]
  },
  {
   "cell_type": "code",
   "execution_count": 20,
   "metadata": {
    "collapsed": false,
    "jupyter": {
     "outputs_hidden": false
    },
    "pycharm": {
     "name": "#%%\n"
    }
   },
   "outputs": [
    {
     "data": {
      "text/html": [
       "<div>\n",
       "<style scoped>\n",
       "    .dataframe tbody tr th:only-of-type {\n",
       "        vertical-align: middle;\n",
       "    }\n",
       "\n",
       "    .dataframe tbody tr th {\n",
       "        vertical-align: top;\n",
       "    }\n",
       "\n",
       "    .dataframe thead th {\n",
       "        text-align: right;\n",
       "    }\n",
       "</style>\n",
       "<table border=\"1\" class=\"dataframe\">\n",
       "  <thead>\n",
       "    <tr style=\"text-align: right;\">\n",
       "      <th></th>\n",
       "      <th>0</th>\n",
       "      <th>1</th>\n",
       "      <th>2</th>\n",
       "      <th>3</th>\n",
       "      <th>4</th>\n",
       "      <th>5</th>\n",
       "      <th>6</th>\n",
       "      <th>7</th>\n",
       "      <th>8</th>\n",
       "      <th>9</th>\n",
       "      <th>...</th>\n",
       "      <th>334</th>\n",
       "      <th>335</th>\n",
       "      <th>336</th>\n",
       "      <th>337</th>\n",
       "      <th>338</th>\n",
       "      <th>339</th>\n",
       "      <th>340</th>\n",
       "      <th>341</th>\n",
       "      <th>342</th>\n",
       "      <th>343</th>\n",
       "    </tr>\n",
       "    <tr>\n",
       "      <th>id</th>\n",
       "      <th></th>\n",
       "      <th></th>\n",
       "      <th></th>\n",
       "      <th></th>\n",
       "      <th></th>\n",
       "      <th></th>\n",
       "      <th></th>\n",
       "      <th></th>\n",
       "      <th></th>\n",
       "      <th></th>\n",
       "      <th></th>\n",
       "      <th></th>\n",
       "      <th></th>\n",
       "      <th></th>\n",
       "      <th></th>\n",
       "      <th></th>\n",
       "      <th></th>\n",
       "      <th></th>\n",
       "      <th></th>\n",
       "      <th></th>\n",
       "      <th></th>\n",
       "    </tr>\n",
       "  </thead>\n",
       "  <tbody>\n",
       "    <tr>\n",
       "      <th>cb509e9c</th>\n",
       "      <td>-370.042681</td>\n",
       "      <td>51.736403</td>\n",
       "      <td>-232.213564</td>\n",
       "      <td>-211.579162</td>\n",
       "      <td>-107.258948</td>\n",
       "      <td>179.656453</td>\n",
       "      <td>90.189819</td>\n",
       "      <td>35.034952</td>\n",
       "      <td>-95.279141</td>\n",
       "      <td>247.102036</td>\n",
       "      <td>...</td>\n",
       "      <td>129.140139</td>\n",
       "      <td>94.433893</td>\n",
       "      <td>-11.851977</td>\n",
       "      <td>-86.325116</td>\n",
       "      <td>55.119843</td>\n",
       "      <td>42.086559</td>\n",
       "      <td>-59.019826</td>\n",
       "      <td>61.912824</td>\n",
       "      <td>-67.365829</td>\n",
       "      <td>-101.742623</td>\n",
       "    </tr>\n",
       "    <tr>\n",
       "      <th>cb5223fc</th>\n",
       "      <td>-241.559780</td>\n",
       "      <td>17.664675</td>\n",
       "      <td>334.589491</td>\n",
       "      <td>-314.667482</td>\n",
       "      <td>54.481023</td>\n",
       "      <td>608.119455</td>\n",
       "      <td>699.242031</td>\n",
       "      <td>-58.364446</td>\n",
       "      <td>-178.925131</td>\n",
       "      <td>139.588806</td>\n",
       "      <td>...</td>\n",
       "      <td>88.622730</td>\n",
       "      <td>38.986431</td>\n",
       "      <td>-51.564817</td>\n",
       "      <td>3.743955</td>\n",
       "      <td>25.649411</td>\n",
       "      <td>93.843328</td>\n",
       "      <td>4.181404</td>\n",
       "      <td>8.968303</td>\n",
       "      <td>85.988131</td>\n",
       "      <td>-109.948814</td>\n",
       "    </tr>\n",
       "    <tr>\n",
       "      <th>cb4eefd4</th>\n",
       "      <td>-284.725948</td>\n",
       "      <td>277.395323</td>\n",
       "      <td>217.875026</td>\n",
       "      <td>-409.577798</td>\n",
       "      <td>32.245703</td>\n",
       "      <td>-192.532818</td>\n",
       "      <td>-28.259020</td>\n",
       "      <td>234.848225</td>\n",
       "      <td>92.997686</td>\n",
       "      <td>-223.032927</td>\n",
       "      <td>...</td>\n",
       "      <td>-0.239411</td>\n",
       "      <td>13.846322</td>\n",
       "      <td>40.362354</td>\n",
       "      <td>-49.609136</td>\n",
       "      <td>23.242647</td>\n",
       "      <td>1.785001</td>\n",
       "      <td>-74.187372</td>\n",
       "      <td>-53.940912</td>\n",
       "      <td>32.513255</td>\n",
       "      <td>-62.595690</td>\n",
       "    </tr>\n",
       "    <tr>\n",
       "      <th>cb597490</th>\n",
       "      <td>-263.605767</td>\n",
       "      <td>141.539040</td>\n",
       "      <td>219.691697</td>\n",
       "      <td>-406.484211</td>\n",
       "      <td>66.752833</td>\n",
       "      <td>327.338297</td>\n",
       "      <td>-58.944334</td>\n",
       "      <td>92.370577</td>\n",
       "      <td>-212.864337</td>\n",
       "      <td>-104.082316</td>\n",
       "      <td>...</td>\n",
       "      <td>-7.971930</td>\n",
       "      <td>68.807337</td>\n",
       "      <td>-11.773985</td>\n",
       "      <td>-69.926164</td>\n",
       "      <td>34.858028</td>\n",
       "      <td>-48.123039</td>\n",
       "      <td>-68.330814</td>\n",
       "      <td>52.238206</td>\n",
       "      <td>-64.298456</td>\n",
       "      <td>27.433462</td>\n",
       "    </tr>\n",
       "    <tr>\n",
       "      <th>cb54218e</th>\n",
       "      <td>103.497271</td>\n",
       "      <td>217.586189</td>\n",
       "      <td>-191.582942</td>\n",
       "      <td>-446.570512</td>\n",
       "      <td>70.625349</td>\n",
       "      <td>173.525545</td>\n",
       "      <td>-188.675958</td>\n",
       "      <td>361.366348</td>\n",
       "      <td>-390.420616</td>\n",
       "      <td>-346.555324</td>\n",
       "      <td>...</td>\n",
       "      <td>43.426929</td>\n",
       "      <td>-80.953317</td>\n",
       "      <td>217.725068</td>\n",
       "      <td>-95.436946</td>\n",
       "      <td>35.481837</td>\n",
       "      <td>-53.397169</td>\n",
       "      <td>107.766843</td>\n",
       "      <td>55.646986</td>\n",
       "      <td>189.725515</td>\n",
       "      <td>-52.888866</td>\n",
       "    </tr>\n",
       "  </tbody>\n",
       "</table>\n",
       "<p>5 rows × 344 columns</p>\n",
       "</div>"
      ],
      "text/plain": [
       "                 0           1           2           3           4    \\\n",
       "id                                                                     \n",
       "cb509e9c -370.042681   51.736403 -232.213564 -211.579162 -107.258948   \n",
       "cb5223fc -241.559780   17.664675  334.589491 -314.667482   54.481023   \n",
       "cb4eefd4 -284.725948  277.395323  217.875026 -409.577798   32.245703   \n",
       "cb597490 -263.605767  141.539040  219.691697 -406.484211   66.752833   \n",
       "cb54218e  103.497271  217.586189 -191.582942 -446.570512   70.625349   \n",
       "\n",
       "                 5           6           7           8           9    ...  \\\n",
       "id                                                                    ...   \n",
       "cb509e9c  179.656453   90.189819   35.034952  -95.279141  247.102036  ...   \n",
       "cb5223fc  608.119455  699.242031  -58.364446 -178.925131  139.588806  ...   \n",
       "cb4eefd4 -192.532818  -28.259020  234.848225   92.997686 -223.032927  ...   \n",
       "cb597490  327.338297  -58.944334   92.370577 -212.864337 -104.082316  ...   \n",
       "cb54218e  173.525545 -188.675958  361.366348 -390.420616 -346.555324  ...   \n",
       "\n",
       "                 334        335         336        337        338        339  \\\n",
       "id                                                                             \n",
       "cb509e9c  129.140139  94.433893  -11.851977 -86.325116  55.119843  42.086559   \n",
       "cb5223fc   88.622730  38.986431  -51.564817   3.743955  25.649411  93.843328   \n",
       "cb4eefd4   -0.239411  13.846322   40.362354 -49.609136  23.242647   1.785001   \n",
       "cb597490   -7.971930  68.807337  -11.773985 -69.926164  34.858028 -48.123039   \n",
       "cb54218e   43.426929 -80.953317  217.725068 -95.436946  35.481837 -53.397169   \n",
       "\n",
       "                 340        341         342         343  \n",
       "id                                                       \n",
       "cb509e9c  -59.019826  61.912824  -67.365829 -101.742623  \n",
       "cb5223fc    4.181404   8.968303   85.988131 -109.948814  \n",
       "cb4eefd4  -74.187372 -53.940912   32.513255  -62.595690  \n",
       "cb597490  -68.330814  52.238206  -64.298456   27.433462  \n",
       "cb54218e  107.766843  55.646986  189.725515  -52.888866  \n",
       "\n",
       "[5 rows x 344 columns]"
      ]
     },
     "execution_count": 20,
     "metadata": {},
     "output_type": "execute_result"
    }
   ],
   "source": [
    "pca_features = pd.DataFrame(pca_features, index=X_features.index)\n",
    "pca_features.head()"
   ]
  },
  {
   "cell_type": "markdown",
   "metadata": {
    "pycharm": {
     "name": "#%% md\n"
    }
   },
   "source": [
    "We will try a first approach to find a prediction model using the **90% more significant dimensions** from the PCA."
   ]
  },
  {
   "cell_type": "markdown",
   "metadata": {
    "pycharm": {
     "name": "#%% md\n"
    }
   },
   "source": [
    "## Rescaling the data\n",
    "\n",
    "To avoid some features having a bigger weight than others, all of them are going to be rescaled, so they have the same numerical ranges.\n",
    "\n",
    "This step will be done again for each new aggregation method besides the PCA dimensionality reduction."
   ]
  },
  {
   "cell_type": "code",
   "execution_count": 21,
   "metadata": {
    "collapsed": false,
    "jupyter": {
     "outputs_hidden": false
    },
    "pycharm": {
     "name": "#%%\n"
    }
   },
   "outputs": [
    {
     "data": {
      "text/html": [
       "<div>\n",
       "<style scoped>\n",
       "    .dataframe tbody tr th:only-of-type {\n",
       "        vertical-align: middle;\n",
       "    }\n",
       "\n",
       "    .dataframe tbody tr th {\n",
       "        vertical-align: top;\n",
       "    }\n",
       "\n",
       "    .dataframe thead th {\n",
       "        text-align: right;\n",
       "    }\n",
       "</style>\n",
       "<table border=\"1\" class=\"dataframe\">\n",
       "  <thead>\n",
       "    <tr style=\"text-align: right;\">\n",
       "      <th></th>\n",
       "      <th>0</th>\n",
       "      <th>1</th>\n",
       "      <th>2</th>\n",
       "      <th>3</th>\n",
       "      <th>4</th>\n",
       "      <th>5</th>\n",
       "      <th>6</th>\n",
       "      <th>7</th>\n",
       "      <th>8</th>\n",
       "      <th>9</th>\n",
       "      <th>...</th>\n",
       "      <th>334</th>\n",
       "      <th>335</th>\n",
       "      <th>336</th>\n",
       "      <th>337</th>\n",
       "      <th>338</th>\n",
       "      <th>339</th>\n",
       "      <th>340</th>\n",
       "      <th>341</th>\n",
       "      <th>342</th>\n",
       "      <th>343</th>\n",
       "    </tr>\n",
       "    <tr>\n",
       "      <th>id</th>\n",
       "      <th></th>\n",
       "      <th></th>\n",
       "      <th></th>\n",
       "      <th></th>\n",
       "      <th></th>\n",
       "      <th></th>\n",
       "      <th></th>\n",
       "      <th></th>\n",
       "      <th></th>\n",
       "      <th></th>\n",
       "      <th></th>\n",
       "      <th></th>\n",
       "      <th></th>\n",
       "      <th></th>\n",
       "      <th></th>\n",
       "      <th></th>\n",
       "      <th></th>\n",
       "      <th></th>\n",
       "      <th></th>\n",
       "      <th></th>\n",
       "      <th></th>\n",
       "    </tr>\n",
       "  </thead>\n",
       "  <tbody>\n",
       "    <tr>\n",
       "      <th>cb509e9c</th>\n",
       "      <td>-0.162014</td>\n",
       "      <td>-0.068735</td>\n",
       "      <td>-0.447192</td>\n",
       "      <td>-0.362570</td>\n",
       "      <td>-0.282581</td>\n",
       "      <td>0.447610</td>\n",
       "      <td>0.326305</td>\n",
       "      <td>0.149403</td>\n",
       "      <td>-0.394818</td>\n",
       "      <td>0.666053</td>\n",
       "      <td>...</td>\n",
       "      <td>1.657653</td>\n",
       "      <td>1.219019</td>\n",
       "      <td>-0.152416</td>\n",
       "      <td>-1.124317</td>\n",
       "      <td>0.706434</td>\n",
       "      <td>0.557055</td>\n",
       "      <td>-0.771896</td>\n",
       "      <td>0.810699</td>\n",
       "      <td>-0.876455</td>\n",
       "      <td>-1.335868</td>\n",
       "    </tr>\n",
       "    <tr>\n",
       "      <th>cb5223fc</th>\n",
       "      <td>0.220606</td>\n",
       "      <td>-0.205409</td>\n",
       "      <td>0.614480</td>\n",
       "      <td>-0.551442</td>\n",
       "      <td>0.294237</td>\n",
       "      <td>1.351648</td>\n",
       "      <td>2.395444</td>\n",
       "      <td>-0.206993</td>\n",
       "      <td>-0.672668</td>\n",
       "      <td>0.355709</td>\n",
       "      <td>...</td>\n",
       "      <td>1.137800</td>\n",
       "      <td>0.506476</td>\n",
       "      <td>-0.667040</td>\n",
       "      <td>0.049891</td>\n",
       "      <td>0.326849</td>\n",
       "      <td>1.233901</td>\n",
       "      <td>0.050685</td>\n",
       "      <td>0.116182</td>\n",
       "      <td>1.126228</td>\n",
       "      <td>-1.444531</td>\n",
       "    </tr>\n",
       "    <tr>\n",
       "      <th>cb4eefd4</th>\n",
       "      <td>0.092058</td>\n",
       "      <td>0.836462</td>\n",
       "      <td>0.395864</td>\n",
       "      <td>-0.725331</td>\n",
       "      <td>0.214938</td>\n",
       "      <td>-0.337693</td>\n",
       "      <td>-0.076102</td>\n",
       "      <td>0.911858</td>\n",
       "      <td>0.230590</td>\n",
       "      <td>-0.691024</td>\n",
       "      <td>...</td>\n",
       "      <td>-0.002336</td>\n",
       "      <td>0.183406</td>\n",
       "      <td>0.524211</td>\n",
       "      <td>-0.645660</td>\n",
       "      <td>0.295849</td>\n",
       "      <td>0.030013</td>\n",
       "      <td>-0.969306</td>\n",
       "      <td>-0.709050</td>\n",
       "      <td>0.427888</td>\n",
       "      <td>-0.817503</td>\n",
       "    </tr>\n",
       "    <tr>\n",
       "      <th>cb597490</th>\n",
       "      <td>0.154954</td>\n",
       "      <td>0.291495</td>\n",
       "      <td>0.399266</td>\n",
       "      <td>-0.719663</td>\n",
       "      <td>0.338002</td>\n",
       "      <td>0.759212</td>\n",
       "      <td>-0.180350</td>\n",
       "      <td>0.368187</td>\n",
       "      <td>-0.785405</td>\n",
       "      <td>-0.347665</td>\n",
       "      <td>...</td>\n",
       "      <td>-0.101547</td>\n",
       "      <td>0.889698</td>\n",
       "      <td>-0.151405</td>\n",
       "      <td>-0.910528</td>\n",
       "      <td>0.445458</td>\n",
       "      <td>-0.622656</td>\n",
       "      <td>-0.893081</td>\n",
       "      <td>0.683789</td>\n",
       "      <td>-0.836397</td>\n",
       "      <td>0.374620</td>\n",
       "    </tr>\n",
       "    <tr>\n",
       "      <th>cb54218e</th>\n",
       "      <td>1.248181</td>\n",
       "      <td>0.596547</td>\n",
       "      <td>-0.371087</td>\n",
       "      <td>-0.793106</td>\n",
       "      <td>0.351813</td>\n",
       "      <td>0.434674</td>\n",
       "      <td>-0.621088</td>\n",
       "      <td>1.394631</td>\n",
       "      <td>-1.375202</td>\n",
       "      <td>-1.047580</td>\n",
       "      <td>...</td>\n",
       "      <td>0.557920</td>\n",
       "      <td>-1.034843</td>\n",
       "      <td>2.822589</td>\n",
       "      <td>-1.243105</td>\n",
       "      <td>0.453492</td>\n",
       "      <td>-0.691628</td>\n",
       "      <td>1.398877</td>\n",
       "      <td>0.728505</td>\n",
       "      <td>2.480956</td>\n",
       "      <td>-0.688970</td>\n",
       "    </tr>\n",
       "  </tbody>\n",
       "</table>\n",
       "<p>5 rows × 344 columns</p>\n",
       "</div>"
      ],
      "text/plain": [
       "               0         1         2         3         4         5    \\\n",
       "id                                                                     \n",
       "cb509e9c -0.162014 -0.068735 -0.447192 -0.362570 -0.282581  0.447610   \n",
       "cb5223fc  0.220606 -0.205409  0.614480 -0.551442  0.294237  1.351648   \n",
       "cb4eefd4  0.092058  0.836462  0.395864 -0.725331  0.214938 -0.337693   \n",
       "cb597490  0.154954  0.291495  0.399266 -0.719663  0.338002  0.759212   \n",
       "cb54218e  1.248181  0.596547 -0.371087 -0.793106  0.351813  0.434674   \n",
       "\n",
       "               6         7         8         9    ...       334       335  \\\n",
       "id                                                ...                       \n",
       "cb509e9c  0.326305  0.149403 -0.394818  0.666053  ...  1.657653  1.219019   \n",
       "cb5223fc  2.395444 -0.206993 -0.672668  0.355709  ...  1.137800  0.506476   \n",
       "cb4eefd4 -0.076102  0.911858  0.230590 -0.691024  ... -0.002336  0.183406   \n",
       "cb597490 -0.180350  0.368187 -0.785405 -0.347665  ... -0.101547  0.889698   \n",
       "cb54218e -0.621088  1.394631 -1.375202 -1.047580  ...  0.557920 -1.034843   \n",
       "\n",
       "               336       337       338       339       340       341  \\\n",
       "id                                                                     \n",
       "cb509e9c -0.152416 -1.124317  0.706434  0.557055 -0.771896  0.810699   \n",
       "cb5223fc -0.667040  0.049891  0.326849  1.233901  0.050685  0.116182   \n",
       "cb4eefd4  0.524211 -0.645660  0.295849  0.030013 -0.969306 -0.709050   \n",
       "cb597490 -0.151405 -0.910528  0.445458 -0.622656 -0.893081  0.683789   \n",
       "cb54218e  2.822589 -1.243105  0.453492 -0.691628  1.398877  0.728505   \n",
       "\n",
       "               342       343  \n",
       "id                            \n",
       "cb509e9c -0.876455 -1.335868  \n",
       "cb5223fc  1.126228 -1.444531  \n",
       "cb4eefd4  0.427888 -0.817503  \n",
       "cb597490 -0.836397  0.374620  \n",
       "cb54218e  2.480956 -0.688970  \n",
       "\n",
       "[5 rows x 344 columns]"
      ]
     },
     "execution_count": 21,
     "metadata": {},
     "output_type": "execute_result"
    }
   ],
   "source": [
    "pca_scaler = RobustScaler()\n",
    "scaled_features = pca_scaler.fit_transform(pca_features)\n",
    "scaled_features = pd.DataFrame(scaled_features, index=X_features.index)\n",
    "scaled_features.head()"
   ]
  },
  {
   "cell_type": "markdown",
   "metadata": {
    "pycharm": {
     "name": "#%% md\n"
    }
   },
   "source": [
    "## Train test split\n",
    "\n",
    "The dataset is going to be split into training and testing data, to check for overfitting in the models."
   ]
  },
  {
   "cell_type": "code",
   "execution_count": 22,
   "metadata": {
    "collapsed": false,
    "jupyter": {
     "outputs_hidden": false
    },
    "pycharm": {
     "name": "#%%\n"
    }
   },
   "outputs": [],
   "source": [
    "x_train, x_test, y_train, y_test = train_test_split(scaled_features, y_features)"
   ]
  },
  {
   "cell_type": "markdown",
   "metadata": {
    "pycharm": {
     "name": "#%% md\n"
    }
   },
   "source": [
    "## Balance the dataset\n",
    "\n",
    "Since the target variables are **not uniformly represented** in our data, it is a good idea to **balance the dataset** so all of them have a similar representation.\n",
    "\n",
    "However, after doing some research, the author wasn't able to find a **reliable** mechanism for balancing multilabel datasets. This is a **point for improvement** if additional time is to be put into this work."
   ]
  },
  {
   "cell_type": "markdown",
   "metadata": {
    "pycharm": {
     "name": "#%% md\n"
    }
   },
   "source": [
    "# Models training\n",
    "\n",
    "We have done a selection of models better suited for **multi-label classification** problems, as indicated in the [Scikit-Learn](https://scikit-learn.org/stable/modules/multiclass.html) documentation.\n",
    "\n",
    "The general strategy that we are going to follow is repeating the training process with each subselection of variables: **PCA reduced**, **VIF < 5** and **VIF < 10**.\n",
    "\n",
    "We will also apply some **hyper parameters tuning** with a **Grid Search** function, to look for the best parameters configuration on each model."
   ]
  },
  {
   "cell_type": "code",
   "execution_count": 23,
   "metadata": {
    "collapsed": false,
    "jupyter": {
     "outputs_hidden": false
    },
    "pycharm": {
     "name": "#%%\n"
    }
   },
   "outputs": [],
   "source": [
    "models = []\n",
    "log_scorer = make_scorer(log_loss, greater_is_better=False)\n",
    "performance = pd.DataFrame(columns=['train_score', 'test_score'])"
   ]
  },
  {
   "cell_type": "markdown",
   "metadata": {
    "pycharm": {
     "name": "#%% md\n"
    }
   },
   "source": [
    "## PCA reduced"
   ]
  },
  {
   "cell_type": "code",
   "execution_count": 24,
   "metadata": {
    "collapsed": false,
    "jupyter": {
     "outputs_hidden": false
    },
    "pycharm": {
     "name": "#%%\n"
    }
   },
   "outputs": [],
   "source": [
    "kn_clf = KNeighborsClassifier()\n",
    "rn_clf = RadiusNeighborsClassifier()\n",
    "mlp_clf = MLPClassifier()\n",
    "rdg_clf = RidgeClassifier()\n",
    "model_label = '_pca'"
   ]
  },
  {
   "cell_type": "code",
   "execution_count": 25,
   "metadata": {
    "collapsed": false,
    "jupyter": {
     "outputs_hidden": false
    },
    "pycharm": {
     "name": "#%%\n"
    }
   },
   "outputs": [
    {
     "name": "stdout",
     "output_type": "stream",
     "text": [
      "\n",
      " ---------------------------------------- \n",
      " KNeighborsClassifier \n",
      " ----------------------------------------\n",
      "Best parameters: \n",
      "\n",
      " {'leaf_size': 10, 'n_neighbors': 10} \n",
      "\n",
      "TRAIN GROUP\n",
      "\n",
      "Cross-validation scores: [-3.50766595 -3.5002131  -3.6065083 ]\n",
      "Mean score: -3.5381291139189393\n",
      "\n",
      "TEST GROUP\n",
      "\n",
      "Score: -0.03812818839108997\n"
     ]
    },
    {
     "data": {
      "image/png": "[encoded data removed]",
      "text/plain": [
       "<Figure size 1800x1800 with 2 Axes>"
      ]
     },
     "metadata": {
      "needs_background": "light"
     },
     "output_type": "display_data"
    },
    {
     "data": {
      "text/html": [
       "<div>\n",
       "<style scoped>\n",
       "    .dataframe tbody tr th:only-of-type {\n",
       "        vertical-align: middle;\n",
       "    }\n",
       "\n",
       "    .dataframe tbody tr th {\n",
       "        vertical-align: top;\n",
       "    }\n",
       "\n",
       "    .dataframe thead th {\n",
       "        text-align: right;\n",
       "    }\n",
       "</style>\n",
       "<table border=\"1\" class=\"dataframe\">\n",
       "  <thead>\n",
       "    <tr style=\"text-align: right;\">\n",
       "      <th></th>\n",
       "      <th>param_leaf_size</th>\n",
       "      <th>param_n_neighbors</th>\n",
       "      <th>params</th>\n",
       "      <th>split0_test_score</th>\n",
       "      <th>split1_test_score</th>\n",
       "      <th>split2_test_score</th>\n",
       "      <th>split3_test_score</th>\n",
       "      <th>split4_test_score</th>\n",
       "      <th>mean_test_score</th>\n",
       "      <th>std_test_score</th>\n",
       "      <th>rank_test_score</th>\n",
       "    </tr>\n",
       "  </thead>\n",
       "  <tbody>\n",
       "    <tr>\n",
       "      <th>2</th>\n",
       "      <td>10</td>\n",
       "      <td>10</td>\n",
       "      <td>{'leaf_size': 10, 'n_neighbors': 10}</td>\n",
       "      <td>-3.412179</td>\n",
       "      <td>-3.612991</td>\n",
       "      <td>-3.417710</td>\n",
       "      <td>-3.604599</td>\n",
       "      <td>-3.585082</td>\n",
       "      <td>-3.526512</td>\n",
       "      <td>0.091560</td>\n",
       "      <td>1</td>\n",
       "    </tr>\n",
       "    <tr>\n",
       "      <th>6</th>\n",
       "      <td>20</td>\n",
       "      <td>10</td>\n",
       "      <td>{'leaf_size': 20, 'n_neighbors': 10}</td>\n",
       "      <td>-3.412179</td>\n",
       "      <td>-3.612991</td>\n",
       "      <td>-3.417710</td>\n",
       "      <td>-3.604599</td>\n",
       "      <td>-3.585082</td>\n",
       "      <td>-3.526512</td>\n",
       "      <td>0.091560</td>\n",
       "      <td>1</td>\n",
       "    </tr>\n",
       "    <tr>\n",
       "      <th>10</th>\n",
       "      <td>30</td>\n",
       "      <td>10</td>\n",
       "      <td>{'leaf_size': 30, 'n_neighbors': 10}</td>\n",
       "      <td>-3.412179</td>\n",
       "      <td>-3.612991</td>\n",
       "      <td>-3.417710</td>\n",
       "      <td>-3.604599</td>\n",
       "      <td>-3.585082</td>\n",
       "      <td>-3.526512</td>\n",
       "      <td>0.091560</td>\n",
       "      <td>1</td>\n",
       "    </tr>\n",
       "    <tr>\n",
       "      <th>14</th>\n",
       "      <td>100</td>\n",
       "      <td>10</td>\n",
       "      <td>{'leaf_size': 100, 'n_neighbors': 10}</td>\n",
       "      <td>-3.412179</td>\n",
       "      <td>-3.612991</td>\n",
       "      <td>-3.417710</td>\n",
       "      <td>-3.604599</td>\n",
       "      <td>-3.585082</td>\n",
       "      <td>-3.526512</td>\n",
       "      <td>0.091560</td>\n",
       "      <td>1</td>\n",
       "    </tr>\n",
       "    <tr>\n",
       "      <th>1</th>\n",
       "      <td>10</td>\n",
       "      <td>5</td>\n",
       "      <td>{'leaf_size': 10, 'n_neighbors': 5}</td>\n",
       "      <td>-3.468780</td>\n",
       "      <td>-3.595709</td>\n",
       "      <td>-3.534322</td>\n",
       "      <td>-3.573576</td>\n",
       "      <td>-3.555865</td>\n",
       "      <td>-3.545651</td>\n",
       "      <td>0.043422</td>\n",
       "      <td>5</td>\n",
       "    </tr>\n",
       "  </tbody>\n",
       "</table>\n",
       "</div>"
      ],
      "text/plain": [
       "   param_leaf_size param_n_neighbors                                 params  \\\n",
       "2               10                10   {'leaf_size': 10, 'n_neighbors': 10}   \n",
       "6               20                10   {'leaf_size': 20, 'n_neighbors': 10}   \n",
       "10              30                10   {'leaf_size': 30, 'n_neighbors': 10}   \n",
       "14             100                10  {'leaf_size': 100, 'n_neighbors': 10}   \n",
       "1               10                 5    {'leaf_size': 10, 'n_neighbors': 5}   \n",
       "\n",
       "    split0_test_score  split1_test_score  split2_test_score  \\\n",
       "2           -3.412179          -3.612991          -3.417710   \n",
       "6           -3.412179          -3.612991          -3.417710   \n",
       "10          -3.412179          -3.612991          -3.417710   \n",
       "14          -3.412179          -3.612991          -3.417710   \n",
       "1           -3.468780          -3.595709          -3.534322   \n",
       "\n",
       "    split3_test_score  split4_test_score  mean_test_score  std_test_score  \\\n",
       "2           -3.604599          -3.585082        -3.526512        0.091560   \n",
       "6           -3.604599          -3.585082        -3.526512        0.091560   \n",
       "10          -3.604599          -3.585082        -3.526512        0.091560   \n",
       "14          -3.604599          -3.585082        -3.526512        0.091560   \n",
       "1           -3.573576          -3.555865        -3.545651        0.043422   \n",
       "\n",
       "    rank_test_score  \n",
       "2                 1  \n",
       "6                 1  \n",
       "10                1  \n",
       "14                1  \n",
       "1                 5  "
      ]
     },
     "metadata": {},
     "output_type": "display_data"
    },
    {
     "data": {
      "text/html": [
       "<div>\n",
       "<style scoped>\n",
       "    .dataframe tbody tr th:only-of-type {\n",
       "        vertical-align: middle;\n",
       "    }\n",
       "\n",
       "    .dataframe tbody tr th {\n",
       "        vertical-align: top;\n",
       "    }\n",
       "\n",
       "    .dataframe thead th {\n",
       "        text-align: right;\n",
       "    }\n",
       "</style>\n",
       "<table border=\"1\" class=\"dataframe\">\n",
       "  <thead>\n",
       "    <tr style=\"text-align: right;\">\n",
       "      <th></th>\n",
       "      <th>train_score</th>\n",
       "      <th>test_score</th>\n",
       "    </tr>\n",
       "  </thead>\n",
       "  <tbody>\n",
       "    <tr>\n",
       "      <th>KNeighborsClassifier_pca</th>\n",
       "      <td>-3.538129</td>\n",
       "      <td>-0.038128</td>\n",
       "    </tr>\n",
       "  </tbody>\n",
       "</table>\n",
       "</div>"
      ],
      "text/plain": [
       "                         train_score test_score\n",
       "KNeighborsClassifier_pca   -3.538129  -0.038128"
      ]
     },
     "metadata": {},
     "output_type": "display_data"
    }
   ],
   "source": [
    "kn_params = {\n",
    "    'n_neighbors': [1, 5, 10, 100],\n",
    "    'leaf_size': [10, 20, 30, 100]\n",
    "}\n",
    "model, performance = score_optimization(kn_params, kn_clf, [x_train, y_train, x_test, y_test], performance, log_scorer, model_label)\n",
    "models.append(model)"
   ]
  },
  {
   "cell_type": "code",
   "execution_count": 26,
   "metadata": {
    "collapsed": false,
    "jupyter": {
     "outputs_hidden": false
    },
    "pycharm": {
     "name": "#%%\n"
    }
   },
   "outputs": [
    {
     "name": "stderr",
     "output_type": "stream",
     "text": [
      "C:\\Users\\jfcaliz\\Anaconda3\\envs\\Devo_tech_test\\lib\\site-packages\\sklearn\\model_selection\\_search.py:953: UserWarning: One or more of the test scores are non-finite: [        nan         nan -3.75912528         nan         nan -3.75912528\n",
      "         nan         nan -3.75912528         nan         nan -3.75912528]\n",
      "  warnings.warn(\n"
     ]
    },
    {
     "name": "stdout",
     "output_type": "stream",
     "text": [
      "\n",
      " ---------------------------------------- \n",
      " RadiusNeighborsClassifier \n",
      " ----------------------------------------\n",
      "Best parameters: \n",
      "\n",
      " {'leaf_size': 10, 'radius': 100} \n",
      "\n",
      "TRAIN GROUP\n",
      "\n",
      "Cross-validation scores: [-3.74170602 -3.77414533 -3.7615119 ]\n",
      "Mean score: -3.7591210840135916\n",
      "\n",
      "TEST GROUP\n",
      "\n",
      "Score: -0.0\n"
     ]
    },
    {
     "data": {
      "image/png": "[encoded data removed]",
      "text/plain": [
       "<Figure size 1800x1800 with 2 Axes>"
      ]
     },
     "metadata": {
      "needs_background": "light"
     },
     "output_type": "display_data"
    },
    {
     "data": {
      "text/html": [
       "<div>\n",
       "<style scoped>\n",
       "    .dataframe tbody tr th:only-of-type {\n",
       "        vertical-align: middle;\n",
       "    }\n",
       "\n",
       "    .dataframe tbody tr th {\n",
       "        vertical-align: top;\n",
       "    }\n",
       "\n",
       "    .dataframe thead th {\n",
       "        text-align: right;\n",
       "    }\n",
       "</style>\n",
       "<table border=\"1\" class=\"dataframe\">\n",
       "  <thead>\n",
       "    <tr style=\"text-align: right;\">\n",
       "      <th></th>\n",
       "      <th>param_leaf_size</th>\n",
       "      <th>param_radius</th>\n",
       "      <th>params</th>\n",
       "      <th>split0_test_score</th>\n",
       "      <th>split1_test_score</th>\n",
       "      <th>split2_test_score</th>\n",
       "      <th>split3_test_score</th>\n",
       "      <th>split4_test_score</th>\n",
       "      <th>mean_test_score</th>\n",
       "      <th>std_test_score</th>\n",
       "      <th>rank_test_score</th>\n",
       "    </tr>\n",
       "  </thead>\n",
       "  <tbody>\n",
       "    <tr>\n",
       "      <th>2</th>\n",
       "      <td>10</td>\n",
       "      <td>100</td>\n",
       "      <td>{'leaf_size': 10, 'radius': 100}</td>\n",
       "      <td>-3.702296</td>\n",
       "      <td>-3.808555</td>\n",
       "      <td>-3.70416</td>\n",
       "      <td>-3.824807</td>\n",
       "      <td>-3.755808</td>\n",
       "      <td>-3.759125</td>\n",
       "      <td>0.051028</td>\n",
       "      <td>1</td>\n",
       "    </tr>\n",
       "    <tr>\n",
       "      <th>5</th>\n",
       "      <td>20</td>\n",
       "      <td>100</td>\n",
       "      <td>{'leaf_size': 20, 'radius': 100}</td>\n",
       "      <td>-3.702296</td>\n",
       "      <td>-3.808555</td>\n",
       "      <td>-3.70416</td>\n",
       "      <td>-3.824807</td>\n",
       "      <td>-3.755808</td>\n",
       "      <td>-3.759125</td>\n",
       "      <td>0.051028</td>\n",
       "      <td>1</td>\n",
       "    </tr>\n",
       "    <tr>\n",
       "      <th>8</th>\n",
       "      <td>30</td>\n",
       "      <td>100</td>\n",
       "      <td>{'leaf_size': 30, 'radius': 100}</td>\n",
       "      <td>-3.702296</td>\n",
       "      <td>-3.808555</td>\n",
       "      <td>-3.70416</td>\n",
       "      <td>-3.824807</td>\n",
       "      <td>-3.755808</td>\n",
       "      <td>-3.759125</td>\n",
       "      <td>0.051028</td>\n",
       "      <td>1</td>\n",
       "    </tr>\n",
       "    <tr>\n",
       "      <th>11</th>\n",
       "      <td>100</td>\n",
       "      <td>100</td>\n",
       "      <td>{'leaf_size': 100, 'radius': 100}</td>\n",
       "      <td>-3.702296</td>\n",
       "      <td>-3.808555</td>\n",
       "      <td>-3.70416</td>\n",
       "      <td>-3.824807</td>\n",
       "      <td>-3.755808</td>\n",
       "      <td>-3.759125</td>\n",
       "      <td>0.051028</td>\n",
       "      <td>1</td>\n",
       "    </tr>\n",
       "    <tr>\n",
       "      <th>0</th>\n",
       "      <td>10</td>\n",
       "      <td>10</td>\n",
       "      <td>{'leaf_size': 10, 'radius': 10}</td>\n",
       "      <td>NaN</td>\n",
       "      <td>NaN</td>\n",
       "      <td>NaN</td>\n",
       "      <td>NaN</td>\n",
       "      <td>NaN</td>\n",
       "      <td>NaN</td>\n",
       "      <td>NaN</td>\n",
       "      <td>5</td>\n",
       "    </tr>\n",
       "  </tbody>\n",
       "</table>\n",
       "</div>"
      ],
      "text/plain": [
       "   param_leaf_size param_radius                             params  \\\n",
       "2               10          100   {'leaf_size': 10, 'radius': 100}   \n",
       "5               20          100   {'leaf_size': 20, 'radius': 100}   \n",
       "8               30          100   {'leaf_size': 30, 'radius': 100}   \n",
       "11             100          100  {'leaf_size': 100, 'radius': 100}   \n",
       "0               10           10    {'leaf_size': 10, 'radius': 10}   \n",
       "\n",
       "    split0_test_score  split1_test_score  split2_test_score  \\\n",
       "2           -3.702296          -3.808555           -3.70416   \n",
       "5           -3.702296          -3.808555           -3.70416   \n",
       "8           -3.702296          -3.808555           -3.70416   \n",
       "11          -3.702296          -3.808555           -3.70416   \n",
       "0                 NaN                NaN                NaN   \n",
       "\n",
       "    split3_test_score  split4_test_score  mean_test_score  std_test_score  \\\n",
       "2           -3.824807          -3.755808        -3.759125        0.051028   \n",
       "5           -3.824807          -3.755808        -3.759125        0.051028   \n",
       "8           -3.824807          -3.755808        -3.759125        0.051028   \n",
       "11          -3.824807          -3.755808        -3.759125        0.051028   \n",
       "0                 NaN                NaN              NaN             NaN   \n",
       "\n",
       "    rank_test_score  \n",
       "2                 1  \n",
       "5                 1  \n",
       "8                 1  \n",
       "11                1  \n",
       "0                 5  "
      ]
     },
     "metadata": {},
     "output_type": "display_data"
    },
    {
     "data": {
      "text/html": [
       "<div>\n",
       "<style scoped>\n",
       "    .dataframe tbody tr th:only-of-type {\n",
       "        vertical-align: middle;\n",
       "    }\n",
       "\n",
       "    .dataframe tbody tr th {\n",
       "        vertical-align: top;\n",
       "    }\n",
       "\n",
       "    .dataframe thead th {\n",
       "        text-align: right;\n",
       "    }\n",
       "</style>\n",
       "<table border=\"1\" class=\"dataframe\">\n",
       "  <thead>\n",
       "    <tr style=\"text-align: right;\">\n",
       "      <th></th>\n",
       "      <th>train_score</th>\n",
       "      <th>test_score</th>\n",
       "    </tr>\n",
       "  </thead>\n",
       "  <tbody>\n",
       "    <tr>\n",
       "      <th>KNeighborsClassifier_pca</th>\n",
       "      <td>-3.538129</td>\n",
       "      <td>-0.038128</td>\n",
       "    </tr>\n",
       "    <tr>\n",
       "      <th>RadiusNeighborsClassifier_pca</th>\n",
       "      <td>-3.759121</td>\n",
       "      <td>-0.0</td>\n",
       "    </tr>\n",
       "  </tbody>\n",
       "</table>\n",
       "</div>"
      ],
      "text/plain": [
       "                              train_score test_score\n",
       "KNeighborsClassifier_pca        -3.538129  -0.038128\n",
       "RadiusNeighborsClassifier_pca   -3.759121       -0.0"
      ]
     },
     "metadata": {},
     "output_type": "display_data"
    }
   ],
   "source": [
    "rn_params = {\n",
    "    'radius': [10, 50, 100],\n",
    "    'leaf_size': [10, 20, 30, 100]\n",
    "}\n",
    "model, performance = score_optimization(rn_params, rn_clf, [x_train, y_train, x_test, y_test], performance, log_scorer, model_label)\n",
    "models.append(model)"
   ]
  },
  {
   "cell_type": "code",
   "execution_count": 27,
   "metadata": {
    "collapsed": false,
    "jupyter": {
     "outputs_hidden": false
    },
    "pycharm": {
     "name": "#%%\n"
    }
   },
   "outputs": [
    {
     "name": "stderr",
     "output_type": "stream",
     "text": [
      "C:\\Users\\jfcaliz\\Anaconda3\\envs\\Devo_tech_test\\lib\\site-packages\\sklearn\\neural_network\\_multilayer_perceptron.py:702: ConvergenceWarning: Stochastic Optimizer: Maximum iterations (1000) reached and the optimization hasn't converged yet.\n",
      "  warnings.warn(\n"
     ]
    },
    {
     "name": "stdout",
     "output_type": "stream",
     "text": [
      "\n",
      " ---------------------------------------- \n",
      " MLPClassifier \n",
      " ----------------------------------------\n",
      "Best parameters: \n",
      "\n",
      " {'learning_rate': 'adaptive', 'max_iter': 1000, 'solver': 'sgd'} \n",
      "\n",
      "TRAIN GROUP\n"
     ]
    },
    {
     "name": "stderr",
     "output_type": "stream",
     "text": [
      "C:\\Users\\jfcaliz\\Anaconda3\\envs\\Devo_tech_test\\lib\\site-packages\\sklearn\\neural_network\\_multilayer_perceptron.py:702: ConvergenceWarning: Stochastic Optimizer: Maximum iterations (1000) reached and the optimization hasn't converged yet.\n",
      "  warnings.warn(\n",
      "C:\\Users\\jfcaliz\\Anaconda3\\envs\\Devo_tech_test\\lib\\site-packages\\sklearn\\neural_network\\_multilayer_perceptron.py:702: ConvergenceWarning: Stochastic Optimizer: Maximum iterations (1000) reached and the optimization hasn't converged yet.\n",
      "  warnings.warn(\n",
      "C:\\Users\\jfcaliz\\Anaconda3\\envs\\Devo_tech_test\\lib\\site-packages\\sklearn\\neural_network\\_multilayer_perceptron.py:702: ConvergenceWarning: Stochastic Optimizer: Maximum iterations (1000) reached and the optimization hasn't converged yet.\n",
      "  warnings.warn(\n"
     ]
    },
    {
     "name": "stdout",
     "output_type": "stream",
     "text": [
      "\n",
      "Cross-validation scores: [-5.93753848 -5.70366251 -5.93308369]\n",
      "Mean score: -5.858094890914483\n",
      "\n",
      "TEST GROUP\n"
     ]
    },
    {
     "name": "stderr",
     "output_type": "stream",
     "text": [
      "C:\\Users\\jfcaliz\\Anaconda3\\envs\\Devo_tech_test\\lib\\site-packages\\sklearn\\neural_network\\_multilayer_perceptron.py:702: ConvergenceWarning: Stochastic Optimizer: Maximum iterations (1000) reached and the optimization hasn't converged yet.\n",
      "  warnings.warn(\n"
     ]
    },
    {
     "name": "stdout",
     "output_type": "stream",
     "text": [
      "\n",
      "Score: -0.11520914910710661\n"
     ]
    },
    {
     "data": {
      "image/png": "[encoded data removed]",
      "text/plain": [
       "<Figure size 1800x1800 with 2 Axes>"
      ]
     },
     "metadata": {
      "needs_background": "light"
     },
     "output_type": "display_data"
    },
    {
     "data": {
      "text/html": [
       "<div>\n",
       "<style scoped>\n",
       "    .dataframe tbody tr th:only-of-type {\n",
       "        vertical-align: middle;\n",
       "    }\n",
       "\n",
       "    .dataframe tbody tr th {\n",
       "        vertical-align: top;\n",
       "    }\n",
       "\n",
       "    .dataframe thead th {\n",
       "        text-align: right;\n",
       "    }\n",
       "</style>\n",
       "<table border=\"1\" class=\"dataframe\">\n",
       "  <thead>\n",
       "    <tr style=\"text-align: right;\">\n",
       "      <th></th>\n",
       "      <th>param_learning_rate</th>\n",
       "      <th>param_max_iter</th>\n",
       "      <th>param_solver</th>\n",
       "      <th>params</th>\n",
       "      <th>split0_test_score</th>\n",
       "      <th>split1_test_score</th>\n",
       "      <th>split2_test_score</th>\n",
       "      <th>split3_test_score</th>\n",
       "      <th>split4_test_score</th>\n",
       "      <th>mean_test_score</th>\n",
       "      <th>std_test_score</th>\n",
       "      <th>rank_test_score</th>\n",
       "    </tr>\n",
       "  </thead>\n",
       "  <tbody>\n",
       "    <tr>\n",
       "      <th>1</th>\n",
       "      <td>adaptive</td>\n",
       "      <td>1000</td>\n",
       "      <td>sgd</td>\n",
       "      <td>{'learning_rate': 'adaptive', 'max_iter': 1000...</td>\n",
       "      <td>-6.074143</td>\n",
       "      <td>-6.011538</td>\n",
       "      <td>-5.503408</td>\n",
       "      <td>-6.137767</td>\n",
       "      <td>-5.877771</td>\n",
       "      <td>-5.920925</td>\n",
       "      <td>0.225783</td>\n",
       "      <td>1</td>\n",
       "    </tr>\n",
       "    <tr>\n",
       "      <th>2</th>\n",
       "      <td>adaptive</td>\n",
       "      <td>1000</td>\n",
       "      <td>adam</td>\n",
       "      <td>{'learning_rate': 'adaptive', 'max_iter': 1000...</td>\n",
       "      <td>-9.180024</td>\n",
       "      <td>-9.364167</td>\n",
       "      <td>-8.941885</td>\n",
       "      <td>-9.797930</td>\n",
       "      <td>-9.066504</td>\n",
       "      <td>-9.270102</td>\n",
       "      <td>0.298243</td>\n",
       "      <td>2</td>\n",
       "    </tr>\n",
       "    <tr>\n",
       "      <th>0</th>\n",
       "      <td>adaptive</td>\n",
       "      <td>1000</td>\n",
       "      <td>lbfgs</td>\n",
       "      <td>{'learning_rate': 'adaptive', 'max_iter': 1000...</td>\n",
       "      <td>-10.246780</td>\n",
       "      <td>-10.706491</td>\n",
       "      <td>-10.085600</td>\n",
       "      <td>-11.225387</td>\n",
       "      <td>-10.366467</td>\n",
       "      <td>-10.526145</td>\n",
       "      <td>0.404743</td>\n",
       "      <td>3</td>\n",
       "    </tr>\n",
       "  </tbody>\n",
       "</table>\n",
       "</div>"
      ],
      "text/plain": [
       "  param_learning_rate param_max_iter param_solver  \\\n",
       "1            adaptive           1000          sgd   \n",
       "2            adaptive           1000         adam   \n",
       "0            adaptive           1000        lbfgs   \n",
       "\n",
       "                                              params  split0_test_score  \\\n",
       "1  {'learning_rate': 'adaptive', 'max_iter': 1000...          -6.074143   \n",
       "2  {'learning_rate': 'adaptive', 'max_iter': 1000...          -9.180024   \n",
       "0  {'learning_rate': 'adaptive', 'max_iter': 1000...         -10.246780   \n",
       "\n",
       "   split1_test_score  split2_test_score  split3_test_score  split4_test_score  \\\n",
       "1          -6.011538          -5.503408          -6.137767          -5.877771   \n",
       "2          -9.364167          -8.941885          -9.797930          -9.066504   \n",
       "0         -10.706491         -10.085600         -11.225387         -10.366467   \n",
       "\n",
       "   mean_test_score  std_test_score  rank_test_score  \n",
       "1        -5.920925        0.225783                1  \n",
       "2        -9.270102        0.298243                2  \n",
       "0       -10.526145        0.404743                3  "
      ]
     },
     "metadata": {},
     "output_type": "display_data"
    },
    {
     "data": {
      "text/html": [
       "<div>\n",
       "<style scoped>\n",
       "    .dataframe tbody tr th:only-of-type {\n",
       "        vertical-align: middle;\n",
       "    }\n",
       "\n",
       "    .dataframe tbody tr th {\n",
       "        vertical-align: top;\n",
       "    }\n",
       "\n",
       "    .dataframe thead th {\n",
       "        text-align: right;\n",
       "    }\n",
       "</style>\n",
       "<table border=\"1\" class=\"dataframe\">\n",
       "  <thead>\n",
       "    <tr style=\"text-align: right;\">\n",
       "      <th></th>\n",
       "      <th>train_score</th>\n",
       "      <th>test_score</th>\n",
       "    </tr>\n",
       "  </thead>\n",
       "  <tbody>\n",
       "    <tr>\n",
       "      <th>KNeighborsClassifier_pca</th>\n",
       "      <td>-3.538129</td>\n",
       "      <td>-0.038128</td>\n",
       "    </tr>\n",
       "    <tr>\n",
       "      <th>RadiusNeighborsClassifier_pca</th>\n",
       "      <td>-3.759121</td>\n",
       "      <td>-0.0</td>\n",
       "    </tr>\n",
       "    <tr>\n",
       "      <th>MLPClassifier_pca</th>\n",
       "      <td>-5.858095</td>\n",
       "      <td>-0.115209</td>\n",
       "    </tr>\n",
       "  </tbody>\n",
       "</table>\n",
       "</div>"
      ],
      "text/plain": [
       "                              train_score test_score\n",
       "KNeighborsClassifier_pca        -3.538129  -0.038128\n",
       "RadiusNeighborsClassifier_pca   -3.759121       -0.0\n",
       "MLPClassifier_pca               -5.858095  -0.115209"
      ]
     },
     "metadata": {},
     "output_type": "display_data"
    }
   ],
   "source": [
    "mlp_params = {\n",
    "    'solver': ['lbfgs', 'sgd', 'adam'],\n",
    "    'learning_rate': ['adaptive'],\n",
    "    'max_iter': [1000]\n",
    "}\n",
    "model, performance = score_optimization(mlp_params, mlp_clf, [x_train, y_train, x_test, y_test], performance, log_scorer, model_label)\n",
    "models.append(model)"
   ]
  },
  {
   "cell_type": "code",
   "execution_count": 28,
   "metadata": {
    "collapsed": false,
    "jupyter": {
     "outputs_hidden": false
    },
    "pycharm": {
     "name": "#%%\n"
    }
   },
   "outputs": [
    {
     "name": "stdout",
     "output_type": "stream",
     "text": [
      "\n",
      " ---------------------------------------- \n",
      " RidgeClassifier \n",
      " ----------------------------------------\n",
      "Best parameters: \n",
      "\n",
      " {'alpha': 100, 'fit_intercept': True} \n",
      "\n",
      "TRAIN GROUP\n",
      "\n",
      "Cross-validation scores: [-3.38360134 -3.43402839 -3.4939107 ]\n",
      "Mean score: -3.43718014410565\n",
      "\n",
      "TEST GROUP\n",
      "\n",
      "Score: -0.04103873712323547\n"
     ]
    },
    {
     "data": {
      "image/png": "[encoded data removed]",
      "text/plain": [
       "<Figure size 1800x1800 with 2 Axes>"
      ]
     },
     "metadata": {
      "needs_background": "light"
     },
     "output_type": "display_data"
    },
    {
     "data": {
      "text/html": [
       "<div>\n",
       "<style scoped>\n",
       "    .dataframe tbody tr th:only-of-type {\n",
       "        vertical-align: middle;\n",
       "    }\n",
       "\n",
       "    .dataframe tbody tr th {\n",
       "        vertical-align: top;\n",
       "    }\n",
       "\n",
       "    .dataframe thead th {\n",
       "        text-align: right;\n",
       "    }\n",
       "</style>\n",
       "<table border=\"1\" class=\"dataframe\">\n",
       "  <thead>\n",
       "    <tr style=\"text-align: right;\">\n",
       "      <th></th>\n",
       "      <th>param_alpha</th>\n",
       "      <th>param_fit_intercept</th>\n",
       "      <th>params</th>\n",
       "      <th>split0_test_score</th>\n",
       "      <th>split1_test_score</th>\n",
       "      <th>split2_test_score</th>\n",
       "      <th>split3_test_score</th>\n",
       "      <th>split4_test_score</th>\n",
       "      <th>mean_test_score</th>\n",
       "      <th>std_test_score</th>\n",
       "      <th>rank_test_score</th>\n",
       "    </tr>\n",
       "  </thead>\n",
       "  <tbody>\n",
       "    <tr>\n",
       "      <th>6</th>\n",
       "      <td>100</td>\n",
       "      <td>True</td>\n",
       "      <td>{'alpha': 100, 'fit_intercept': True}</td>\n",
       "      <td>-3.283854</td>\n",
       "      <td>-3.490863</td>\n",
       "      <td>-3.364345</td>\n",
       "      <td>-3.600624</td>\n",
       "      <td>-3.452756</td>\n",
       "      <td>-3.438488</td>\n",
       "      <td>0.108299</td>\n",
       "      <td>1</td>\n",
       "    </tr>\n",
       "    <tr>\n",
       "      <th>0</th>\n",
       "      <td>0.1</td>\n",
       "      <td>True</td>\n",
       "      <td>{'alpha': 0.1, 'fit_intercept': True}</td>\n",
       "      <td>-3.281747</td>\n",
       "      <td>-3.487134</td>\n",
       "      <td>-3.377330</td>\n",
       "      <td>-3.608984</td>\n",
       "      <td>-3.449026</td>\n",
       "      <td>-3.440844</td>\n",
       "      <td>0.109386</td>\n",
       "      <td>2</td>\n",
       "    </tr>\n",
       "    <tr>\n",
       "      <th>2</th>\n",
       "      <td>1</td>\n",
       "      <td>True</td>\n",
       "      <td>{'alpha': 1, 'fit_intercept': True}</td>\n",
       "      <td>-3.281747</td>\n",
       "      <td>-3.487134</td>\n",
       "      <td>-3.377330</td>\n",
       "      <td>-3.608984</td>\n",
       "      <td>-3.449026</td>\n",
       "      <td>-3.440844</td>\n",
       "      <td>0.109386</td>\n",
       "      <td>2</td>\n",
       "    </tr>\n",
       "    <tr>\n",
       "      <th>4</th>\n",
       "      <td>10</td>\n",
       "      <td>True</td>\n",
       "      <td>{'alpha': 10, 'fit_intercept': True}</td>\n",
       "      <td>-3.281989</td>\n",
       "      <td>-3.487134</td>\n",
       "      <td>-3.379194</td>\n",
       "      <td>-3.608984</td>\n",
       "      <td>-3.449026</td>\n",
       "      <td>-3.441266</td>\n",
       "      <td>0.109101</td>\n",
       "      <td>4</td>\n",
       "    </tr>\n",
       "    <tr>\n",
       "      <th>7</th>\n",
       "      <td>100</td>\n",
       "      <td>False</td>\n",
       "      <td>{'alpha': 100, 'fit_intercept': False}</td>\n",
       "      <td>-6.340865</td>\n",
       "      <td>-6.429399</td>\n",
       "      <td>-6.443534</td>\n",
       "      <td>-6.843359</td>\n",
       "      <td>-6.389419</td>\n",
       "      <td>-6.489315</td>\n",
       "      <td>0.180582</td>\n",
       "      <td>5</td>\n",
       "    </tr>\n",
       "  </tbody>\n",
       "</table>\n",
       "</div>"
      ],
      "text/plain": [
       "  param_alpha param_fit_intercept                                  params  \\\n",
       "6         100                True   {'alpha': 100, 'fit_intercept': True}   \n",
       "0         0.1                True   {'alpha': 0.1, 'fit_intercept': True}   \n",
       "2           1                True     {'alpha': 1, 'fit_intercept': True}   \n",
       "4          10                True    {'alpha': 10, 'fit_intercept': True}   \n",
       "7         100               False  {'alpha': 100, 'fit_intercept': False}   \n",
       "\n",
       "   split0_test_score  split1_test_score  split2_test_score  split3_test_score  \\\n",
       "6          -3.283854          -3.490863          -3.364345          -3.600624   \n",
       "0          -3.281747          -3.487134          -3.377330          -3.608984   \n",
       "2          -3.281747          -3.487134          -3.377330          -3.608984   \n",
       "4          -3.281989          -3.487134          -3.379194          -3.608984   \n",
       "7          -6.340865          -6.429399          -6.443534          -6.843359   \n",
       "\n",
       "   split4_test_score  mean_test_score  std_test_score  rank_test_score  \n",
       "6          -3.452756        -3.438488        0.108299                1  \n",
       "0          -3.449026        -3.440844        0.109386                2  \n",
       "2          -3.449026        -3.440844        0.109386                2  \n",
       "4          -3.449026        -3.441266        0.109101                4  \n",
       "7          -6.389419        -6.489315        0.180582                5  "
      ]
     },
     "metadata": {},
     "output_type": "display_data"
    },
    {
     "data": {
      "text/html": [
       "<div>\n",
       "<style scoped>\n",
       "    .dataframe tbody tr th:only-of-type {\n",
       "        vertical-align: middle;\n",
       "    }\n",
       "\n",
       "    .dataframe tbody tr th {\n",
       "        vertical-align: top;\n",
       "    }\n",
       "\n",
       "    .dataframe thead th {\n",
       "        text-align: right;\n",
       "    }\n",
       "</style>\n",
       "<table border=\"1\" class=\"dataframe\">\n",
       "  <thead>\n",
       "    <tr style=\"text-align: right;\">\n",
       "      <th></th>\n",
       "      <th>train_score</th>\n",
       "      <th>test_score</th>\n",
       "    </tr>\n",
       "  </thead>\n",
       "  <tbody>\n",
       "    <tr>\n",
       "      <th>KNeighborsClassifier_pca</th>\n",
       "      <td>-3.538129</td>\n",
       "      <td>-0.038128</td>\n",
       "    </tr>\n",
       "    <tr>\n",
       "      <th>RadiusNeighborsClassifier_pca</th>\n",
       "      <td>-3.759121</td>\n",
       "      <td>-0.0</td>\n",
       "    </tr>\n",
       "    <tr>\n",
       "      <th>MLPClassifier_pca</th>\n",
       "      <td>-5.858095</td>\n",
       "      <td>-0.115209</td>\n",
       "    </tr>\n",
       "    <tr>\n",
       "      <th>RidgeClassifier_pca</th>\n",
       "      <td>-3.43718</td>\n",
       "      <td>-0.041039</td>\n",
       "    </tr>\n",
       "  </tbody>\n",
       "</table>\n",
       "</div>"
      ],
      "text/plain": [
       "                              train_score test_score\n",
       "KNeighborsClassifier_pca        -3.538129  -0.038128\n",
       "RadiusNeighborsClassifier_pca   -3.759121       -0.0\n",
       "MLPClassifier_pca               -5.858095  -0.115209\n",
       "RidgeClassifier_pca              -3.43718  -0.041039"
      ]
     },
     "metadata": {},
     "output_type": "display_data"
    }
   ],
   "source": [
    "rdg_params = {\n",
    "    'alpha': [0.1, 1, 10, 100],\n",
    "    'fit_intercept': [True, False]\n",
    "}\n",
    "model, performance = score_optimization(rdg_params, rdg_clf, [x_train, y_train, x_test, y_test], performance, log_scorer, model_label)\n",
    "models.append(model)"
   ]
  },
  {
   "cell_type": "markdown",
   "metadata": {
    "pycharm": {
     "name": "#%% md\n"
    }
   },
   "source": [
    "## VIF 5"
   ]
  },
  {
   "cell_type": "code",
   "execution_count": 29,
   "metadata": {
    "collapsed": false,
    "jupyter": {
     "outputs_hidden": false
    },
    "pycharm": {
     "name": "#%%\n"
    }
   },
   "outputs": [
    {
     "data": {
      "text/html": [
       "<div>\n",
       "<style scoped>\n",
       "    .dataframe tbody tr th:only-of-type {\n",
       "        vertical-align: middle;\n",
       "    }\n",
       "\n",
       "    .dataframe tbody tr th {\n",
       "        vertical-align: top;\n",
       "    }\n",
       "\n",
       "    .dataframe thead th {\n",
       "        text-align: right;\n",
       "    }\n",
       "</style>\n",
       "<table border=\"1\" class=\"dataframe\">\n",
       "  <thead>\n",
       "    <tr style=\"text-align: right;\">\n",
       "      <th></th>\n",
       "      <th>0</th>\n",
       "      <th>1</th>\n",
       "      <th>2</th>\n",
       "      <th>3</th>\n",
       "      <th>4</th>\n",
       "      <th>5</th>\n",
       "      <th>6</th>\n",
       "      <th>7</th>\n",
       "      <th>8</th>\n",
       "      <th>9</th>\n",
       "      <th>...</th>\n",
       "      <th>604</th>\n",
       "      <th>605</th>\n",
       "      <th>606</th>\n",
       "      <th>607</th>\n",
       "      <th>608</th>\n",
       "      <th>609</th>\n",
       "      <th>610</th>\n",
       "      <th>611</th>\n",
       "      <th>612</th>\n",
       "      <th>613</th>\n",
       "    </tr>\n",
       "    <tr>\n",
       "      <th>id</th>\n",
       "      <th></th>\n",
       "      <th></th>\n",
       "      <th></th>\n",
       "      <th></th>\n",
       "      <th></th>\n",
       "      <th></th>\n",
       "      <th></th>\n",
       "      <th></th>\n",
       "      <th></th>\n",
       "      <th></th>\n",
       "      <th></th>\n",
       "      <th></th>\n",
       "      <th></th>\n",
       "      <th></th>\n",
       "      <th></th>\n",
       "      <th></th>\n",
       "      <th></th>\n",
       "      <th></th>\n",
       "      <th></th>\n",
       "      <th></th>\n",
       "      <th></th>\n",
       "    </tr>\n",
       "  </thead>\n",
       "  <tbody>\n",
       "    <tr>\n",
       "      <th>cb509e9c</th>\n",
       "      <td>0.0</td>\n",
       "      <td>0.5</td>\n",
       "      <td>1.0</td>\n",
       "      <td>-0.253550</td>\n",
       "      <td>0.095934</td>\n",
       "      <td>-0.284581</td>\n",
       "      <td>-0.670231</td>\n",
       "      <td>0.419589</td>\n",
       "      <td>-0.100685</td>\n",
       "      <td>-0.348969</td>\n",
       "      <td>...</td>\n",
       "      <td>-0.019170</td>\n",
       "      <td>0.213955</td>\n",
       "      <td>-0.900761</td>\n",
       "      <td>-0.571972</td>\n",
       "      <td>-1.103231</td>\n",
       "      <td>1.776342</td>\n",
       "      <td>0.850714</td>\n",
       "      <td>0.129823</td>\n",
       "      <td>-0.078077</td>\n",
       "      <td>0.302745</td>\n",
       "    </tr>\n",
       "    <tr>\n",
       "      <th>cb5223fc</th>\n",
       "      <td>0.0</td>\n",
       "      <td>0.0</td>\n",
       "      <td>0.0</td>\n",
       "      <td>-0.956875</td>\n",
       "      <td>-0.205662</td>\n",
       "      <td>-0.908045</td>\n",
       "      <td>-0.649594</td>\n",
       "      <td>0.472630</td>\n",
       "      <td>0.833285</td>\n",
       "      <td>0.023454</td>\n",
       "      <td>...</td>\n",
       "      <td>-0.256737</td>\n",
       "      <td>-1.036824</td>\n",
       "      <td>0.531035</td>\n",
       "      <td>-1.576702</td>\n",
       "      <td>-0.563830</td>\n",
       "      <td>-0.373067</td>\n",
       "      <td>-0.392777</td>\n",
       "      <td>-0.340325</td>\n",
       "      <td>0.618050</td>\n",
       "      <td>0.185935</td>\n",
       "    </tr>\n",
       "    <tr>\n",
       "      <th>cb4eefd4</th>\n",
       "      <td>0.0</td>\n",
       "      <td>0.0</td>\n",
       "      <td>0.0</td>\n",
       "      <td>0.240857</td>\n",
       "      <td>-0.574430</td>\n",
       "      <td>-0.344022</td>\n",
       "      <td>0.516574</td>\n",
       "      <td>0.342218</td>\n",
       "      <td>0.519548</td>\n",
       "      <td>-0.396728</td>\n",
       "      <td>...</td>\n",
       "      <td>-0.436895</td>\n",
       "      <td>0.155132</td>\n",
       "      <td>-1.164467</td>\n",
       "      <td>-0.431831</td>\n",
       "      <td>0.048660</td>\n",
       "      <td>-0.146017</td>\n",
       "      <td>-0.360197</td>\n",
       "      <td>0.132096</td>\n",
       "      <td>-1.201757</td>\n",
       "      <td>0.458667</td>\n",
       "    </tr>\n",
       "    <tr>\n",
       "      <th>cb597490</th>\n",
       "      <td>0.0</td>\n",
       "      <td>0.5</td>\n",
       "      <td>1.0</td>\n",
       "      <td>0.143890</td>\n",
       "      <td>-0.279506</td>\n",
       "      <td>0.711508</td>\n",
       "      <td>-0.053358</td>\n",
       "      <td>0.275224</td>\n",
       "      <td>0.176465</td>\n",
       "      <td>-0.764138</td>\n",
       "      <td>...</td>\n",
       "      <td>-0.129573</td>\n",
       "      <td>-0.399112</td>\n",
       "      <td>0.130766</td>\n",
       "      <td>-0.989612</td>\n",
       "      <td>-0.462864</td>\n",
       "      <td>-0.139231</td>\n",
       "      <td>-1.562031</td>\n",
       "      <td>-0.649117</td>\n",
       "      <td>-0.735518</td>\n",
       "      <td>-0.180810</td>\n",
       "    </tr>\n",
       "    <tr>\n",
       "      <th>cb54218e</th>\n",
       "      <td>0.0</td>\n",
       "      <td>0.0</td>\n",
       "      <td>1.0</td>\n",
       "      <td>0.098528</td>\n",
       "      <td>-0.321702</td>\n",
       "      <td>0.561564</td>\n",
       "      <td>0.117087</td>\n",
       "      <td>0.350537</td>\n",
       "      <td>-0.179844</td>\n",
       "      <td>-0.460658</td>\n",
       "      <td>...</td>\n",
       "      <td>0.655091</td>\n",
       "      <td>-0.571617</td>\n",
       "      <td>-1.066108</td>\n",
       "      <td>-1.665739</td>\n",
       "      <td>0.028467</td>\n",
       "      <td>1.330071</td>\n",
       "      <td>-0.105288</td>\n",
       "      <td>0.400076</td>\n",
       "      <td>0.946013</td>\n",
       "      <td>0.328889</td>\n",
       "    </tr>\n",
       "  </tbody>\n",
       "</table>\n",
       "<p>5 rows × 614 columns</p>\n",
       "</div>"
      ],
      "text/plain": [
       "          0    1    2         3         4         5         6         7    \\\n",
       "id                                                                          \n",
       "cb509e9c  0.0  0.5  1.0 -0.253550  0.095934 -0.284581 -0.670231  0.419589   \n",
       "cb5223fc  0.0  0.0  0.0 -0.956875 -0.205662 -0.908045 -0.649594  0.472630   \n",
       "cb4eefd4  0.0  0.0  0.0  0.240857 -0.574430 -0.344022  0.516574  0.342218   \n",
       "cb597490  0.0  0.5  1.0  0.143890 -0.279506  0.711508 -0.053358  0.275224   \n",
       "cb54218e  0.0  0.0  1.0  0.098528 -0.321702  0.561564  0.117087  0.350537   \n",
       "\n",
       "               8         9    ...       604       605       606       607  \\\n",
       "id                            ...                                           \n",
       "cb509e9c -0.100685 -0.348969  ... -0.019170  0.213955 -0.900761 -0.571972   \n",
       "cb5223fc  0.833285  0.023454  ... -0.256737 -1.036824  0.531035 -1.576702   \n",
       "cb4eefd4  0.519548 -0.396728  ... -0.436895  0.155132 -1.164467 -0.431831   \n",
       "cb597490  0.176465 -0.764138  ... -0.129573 -0.399112  0.130766 -0.989612   \n",
       "cb54218e -0.179844 -0.460658  ...  0.655091 -0.571617 -1.066108 -1.665739   \n",
       "\n",
       "               608       609       610       611       612       613  \n",
       "id                                                                    \n",
       "cb509e9c -1.103231  1.776342  0.850714  0.129823 -0.078077  0.302745  \n",
       "cb5223fc -0.563830 -0.373067 -0.392777 -0.340325  0.618050  0.185935  \n",
       "cb4eefd4  0.048660 -0.146017 -0.360197  0.132096 -1.201757  0.458667  \n",
       "cb597490 -0.462864 -0.139231 -1.562031 -0.649117 -0.735518 -0.180810  \n",
       "cb54218e  0.028467  1.330071 -0.105288  0.400076  0.946013  0.328889  \n",
       "\n",
       "[5 rows x 614 columns]"
      ]
     },
     "execution_count": 29,
     "metadata": {},
     "output_type": "execute_result"
    }
   ],
   "source": [
    "vif5_scaler = RobustScaler()\n",
    "scaled_features = vif5_scaler.fit_transform(X_features_VIF5)\n",
    "scaled_features = pd.DataFrame(scaled_features, index=X_features.index)\n",
    "scaled_features.head()"
   ]
  },
  {
   "cell_type": "code",
   "execution_count": 30,
   "metadata": {
    "collapsed": false,
    "jupyter": {
     "outputs_hidden": false
    },
    "pycharm": {
     "name": "#%%\n"
    }
   },
   "outputs": [],
   "source": [
    "x_train, x_test, y_train, y_test = train_test_split(scaled_features, y_features)"
   ]
  },
  {
   "cell_type": "code",
   "execution_count": 31,
   "metadata": {
    "collapsed": false,
    "jupyter": {
     "outputs_hidden": false
    },
    "pycharm": {
     "name": "#%%\n"
    }
   },
   "outputs": [],
   "source": [
    "kn_clf_vif5 = KNeighborsClassifier()\n",
    "rn_clf_vif5 = RadiusNeighborsClassifier()\n",
    "mlp_clf_vif5 = MLPClassifier()\n",
    "rdg_clf_vif5 = RidgeClassifier()\n",
    "model_label = '_vif5'"
   ]
  },
  {
   "cell_type": "code",
   "execution_count": 32,
   "metadata": {
    "collapsed": false,
    "jupyter": {
     "outputs_hidden": false
    },
    "pycharm": {
     "name": "#%%\n"
    }
   },
   "outputs": [
    {
     "name": "stdout",
     "output_type": "stream",
     "text": [
      "\n",
      " ---------------------------------------- \n",
      " KNeighborsClassifier \n",
      " ----------------------------------------\n",
      "Best parameters: \n",
      "\n",
      " {'leaf_size': 10, 'n_neighbors': 10} \n",
      "\n",
      "TRAIN GROUP\n",
      "\n",
      "Cross-validation scores: [-3.38996261 -3.38622267 -3.51770462]\n",
      "Mean score: -3.431296634858679\n",
      "\n",
      "TEST GROUP\n",
      "\n",
      "Score: -0.04715088946073746\n"
     ]
    },
    {
     "data": {
      "image/png": "[encoded data removed]",
      "text/plain": [
       "<Figure size 1800x1800 with 2 Axes>"
      ]
     },
     "metadata": {
      "needs_background": "light"
     },
     "output_type": "display_data"
    },
    {
     "data": {
      "text/html": [
       "<div>\n",
       "<style scoped>\n",
       "    .dataframe tbody tr th:only-of-type {\n",
       "        vertical-align: middle;\n",
       "    }\n",
       "\n",
       "    .dataframe tbody tr th {\n",
       "        vertical-align: top;\n",
       "    }\n",
       "\n",
       "    .dataframe thead th {\n",
       "        text-align: right;\n",
       "    }\n",
       "</style>\n",
       "<table border=\"1\" class=\"dataframe\">\n",
       "  <thead>\n",
       "    <tr style=\"text-align: right;\">\n",
       "      <th></th>\n",
       "      <th>param_leaf_size</th>\n",
       "      <th>param_n_neighbors</th>\n",
       "      <th>params</th>\n",
       "      <th>split0_test_score</th>\n",
       "      <th>split1_test_score</th>\n",
       "      <th>split2_test_score</th>\n",
       "      <th>split3_test_score</th>\n",
       "      <th>split4_test_score</th>\n",
       "      <th>mean_test_score</th>\n",
       "      <th>std_test_score</th>\n",
       "      <th>rank_test_score</th>\n",
       "    </tr>\n",
       "  </thead>\n",
       "  <tbody>\n",
       "    <tr>\n",
       "      <th>2</th>\n",
       "      <td>10</td>\n",
       "      <td>10</td>\n",
       "      <td>{'leaf_size': 10, 'n_neighbors': 10}</td>\n",
       "      <td>-3.240630</td>\n",
       "      <td>-3.459385</td>\n",
       "      <td>-3.438575</td>\n",
       "      <td>-3.462874</td>\n",
       "      <td>-3.510448</td>\n",
       "      <td>-3.422382</td>\n",
       "      <td>0.093873</td>\n",
       "      <td>1</td>\n",
       "    </tr>\n",
       "    <tr>\n",
       "      <th>6</th>\n",
       "      <td>20</td>\n",
       "      <td>10</td>\n",
       "      <td>{'leaf_size': 20, 'n_neighbors': 10}</td>\n",
       "      <td>-3.240630</td>\n",
       "      <td>-3.459385</td>\n",
       "      <td>-3.438575</td>\n",
       "      <td>-3.462874</td>\n",
       "      <td>-3.510448</td>\n",
       "      <td>-3.422382</td>\n",
       "      <td>0.093873</td>\n",
       "      <td>1</td>\n",
       "    </tr>\n",
       "    <tr>\n",
       "      <th>10</th>\n",
       "      <td>30</td>\n",
       "      <td>10</td>\n",
       "      <td>{'leaf_size': 30, 'n_neighbors': 10}</td>\n",
       "      <td>-3.240630</td>\n",
       "      <td>-3.459385</td>\n",
       "      <td>-3.438575</td>\n",
       "      <td>-3.462874</td>\n",
       "      <td>-3.510448</td>\n",
       "      <td>-3.422382</td>\n",
       "      <td>0.093873</td>\n",
       "      <td>1</td>\n",
       "    </tr>\n",
       "    <tr>\n",
       "      <th>14</th>\n",
       "      <td>100</td>\n",
       "      <td>10</td>\n",
       "      <td>{'leaf_size': 100, 'n_neighbors': 10}</td>\n",
       "      <td>-3.240630</td>\n",
       "      <td>-3.459385</td>\n",
       "      <td>-3.438575</td>\n",
       "      <td>-3.462874</td>\n",
       "      <td>-3.510448</td>\n",
       "      <td>-3.422382</td>\n",
       "      <td>0.093873</td>\n",
       "      <td>1</td>\n",
       "    </tr>\n",
       "    <tr>\n",
       "      <th>1</th>\n",
       "      <td>10</td>\n",
       "      <td>5</td>\n",
       "      <td>{'leaf_size': 10, 'n_neighbors': 5}</td>\n",
       "      <td>-3.341033</td>\n",
       "      <td>-3.524007</td>\n",
       "      <td>-3.505610</td>\n",
       "      <td>-3.479878</td>\n",
       "      <td>-3.467940</td>\n",
       "      <td>-3.463694</td>\n",
       "      <td>0.064375</td>\n",
       "      <td>5</td>\n",
       "    </tr>\n",
       "  </tbody>\n",
       "</table>\n",
       "</div>"
      ],
      "text/plain": [
       "   param_leaf_size param_n_neighbors                                 params  \\\n",
       "2               10                10   {'leaf_size': 10, 'n_neighbors': 10}   \n",
       "6               20                10   {'leaf_size': 20, 'n_neighbors': 10}   \n",
       "10              30                10   {'leaf_size': 30, 'n_neighbors': 10}   \n",
       "14             100                10  {'leaf_size': 100, 'n_neighbors': 10}   \n",
       "1               10                 5    {'leaf_size': 10, 'n_neighbors': 5}   \n",
       "\n",
       "    split0_test_score  split1_test_score  split2_test_score  \\\n",
       "2           -3.240630          -3.459385          -3.438575   \n",
       "6           -3.240630          -3.459385          -3.438575   \n",
       "10          -3.240630          -3.459385          -3.438575   \n",
       "14          -3.240630          -3.459385          -3.438575   \n",
       "1           -3.341033          -3.524007          -3.505610   \n",
       "\n",
       "    split3_test_score  split4_test_score  mean_test_score  std_test_score  \\\n",
       "2           -3.462874          -3.510448        -3.422382        0.093873   \n",
       "6           -3.462874          -3.510448        -3.422382        0.093873   \n",
       "10          -3.462874          -3.510448        -3.422382        0.093873   \n",
       "14          -3.462874          -3.510448        -3.422382        0.093873   \n",
       "1           -3.479878          -3.467940        -3.463694        0.064375   \n",
       "\n",
       "    rank_test_score  \n",
       "2                 1  \n",
       "6                 1  \n",
       "10                1  \n",
       "14                1  \n",
       "1                 5  "
      ]
     },
     "metadata": {},
     "output_type": "display_data"
    },
    {
     "data": {
      "text/html": [
       "<div>\n",
       "<style scoped>\n",
       "    .dataframe tbody tr th:only-of-type {\n",
       "        vertical-align: middle;\n",
       "    }\n",
       "\n",
       "    .dataframe tbody tr th {\n",
       "        vertical-align: top;\n",
       "    }\n",
       "\n",
       "    .dataframe thead th {\n",
       "        text-align: right;\n",
       "    }\n",
       "</style>\n",
       "<table border=\"1\" class=\"dataframe\">\n",
       "  <thead>\n",
       "    <tr style=\"text-align: right;\">\n",
       "      <th></th>\n",
       "      <th>train_score</th>\n",
       "      <th>test_score</th>\n",
       "    </tr>\n",
       "  </thead>\n",
       "  <tbody>\n",
       "    <tr>\n",
       "      <th>KNeighborsClassifier_pca</th>\n",
       "      <td>-3.538129</td>\n",
       "      <td>-0.038128</td>\n",
       "    </tr>\n",
       "    <tr>\n",
       "      <th>RadiusNeighborsClassifier_pca</th>\n",
       "      <td>-3.759121</td>\n",
       "      <td>-0.0</td>\n",
       "    </tr>\n",
       "    <tr>\n",
       "      <th>MLPClassifier_pca</th>\n",
       "      <td>-5.858095</td>\n",
       "      <td>-0.115209</td>\n",
       "    </tr>\n",
       "    <tr>\n",
       "      <th>RidgeClassifier_pca</th>\n",
       "      <td>-3.43718</td>\n",
       "      <td>-0.041039</td>\n",
       "    </tr>\n",
       "    <tr>\n",
       "      <th>KNeighborsClassifier_vif5</th>\n",
       "      <td>-3.431297</td>\n",
       "      <td>-0.047151</td>\n",
       "    </tr>\n",
       "  </tbody>\n",
       "</table>\n",
       "</div>"
      ],
      "text/plain": [
       "                              train_score test_score\n",
       "KNeighborsClassifier_pca        -3.538129  -0.038128\n",
       "RadiusNeighborsClassifier_pca   -3.759121       -0.0\n",
       "MLPClassifier_pca               -5.858095  -0.115209\n",
       "RidgeClassifier_pca              -3.43718  -0.041039\n",
       "KNeighborsClassifier_vif5       -3.431297  -0.047151"
      ]
     },
     "metadata": {},
     "output_type": "display_data"
    }
   ],
   "source": [
    "kn_params = {\n",
    "    'n_neighbors': [1, 5, 10, 100],\n",
    "    'leaf_size': [10, 20, 30, 100]\n",
    "}\n",
    "model, performance = score_optimization(kn_params, kn_clf_vif5, [x_train, y_train, x_test, y_test], performance, log_scorer, model_label)\n",
    "models.append(model)"
   ]
  },
  {
   "cell_type": "code",
   "execution_count": 33,
   "metadata": {
    "collapsed": false,
    "jupyter": {
     "outputs_hidden": false
    },
    "pycharm": {
     "name": "#%%\n"
    }
   },
   "outputs": [
    {
     "name": "stderr",
     "output_type": "stream",
     "text": [
      "C:\\Users\\jfcaliz\\Anaconda3\\envs\\Devo_tech_test\\lib\\site-packages\\sklearn\\model_selection\\_search.py:953: UserWarning: One or more of the test scores are non-finite: [        nan         nan -3.73066613         nan         nan -3.73066613\n",
      "         nan         nan -3.73066613         nan         nan -3.73066613]\n",
      "  warnings.warn(\n"
     ]
    },
    {
     "name": "stdout",
     "output_type": "stream",
     "text": [
      "\n",
      " ---------------------------------------- \n",
      " RadiusNeighborsClassifier \n",
      " ----------------------------------------\n",
      "Best parameters: \n",
      "\n",
      " {'leaf_size': 10, 'radius': 100} \n",
      "\n",
      "TRAIN GROUP\n",
      "\n",
      "Cross-validation scores: [-3.73056568 -3.73893234 -3.72250176]\n",
      "Mean score: -3.7306665941246764\n",
      "\n",
      "TEST GROUP\n",
      "\n",
      "Score: -0.0\n"
     ]
    },
    {
     "data": {
      "image/png": "[encoded data removed]",
      "text/plain": [
       "<Figure size 1800x1800 with 2 Axes>"
      ]
     },
     "metadata": {
      "needs_background": "light"
     },
     "output_type": "display_data"
    },
    {
     "data": {
      "text/html": [
       "<div>\n",
       "<style scoped>\n",
       "    .dataframe tbody tr th:only-of-type {\n",
       "        vertical-align: middle;\n",
       "    }\n",
       "\n",
       "    .dataframe tbody tr th {\n",
       "        vertical-align: top;\n",
       "    }\n",
       "\n",
       "    .dataframe thead th {\n",
       "        text-align: right;\n",
       "    }\n",
       "</style>\n",
       "<table border=\"1\" class=\"dataframe\">\n",
       "  <thead>\n",
       "    <tr style=\"text-align: right;\">\n",
       "      <th></th>\n",
       "      <th>param_leaf_size</th>\n",
       "      <th>param_radius</th>\n",
       "      <th>params</th>\n",
       "      <th>split0_test_score</th>\n",
       "      <th>split1_test_score</th>\n",
       "      <th>split2_test_score</th>\n",
       "      <th>split3_test_score</th>\n",
       "      <th>split4_test_score</th>\n",
       "      <th>mean_test_score</th>\n",
       "      <th>std_test_score</th>\n",
       "      <th>rank_test_score</th>\n",
       "    </tr>\n",
       "  </thead>\n",
       "  <tbody>\n",
       "    <tr>\n",
       "      <th>2</th>\n",
       "      <td>10</td>\n",
       "      <td>100</td>\n",
       "      <td>{'leaf_size': 10, 'radius': 100}</td>\n",
       "      <td>-3.683245</td>\n",
       "      <td>-3.769892</td>\n",
       "      <td>-3.753599</td>\n",
       "      <td>-3.705942</td>\n",
       "      <td>-3.740652</td>\n",
       "      <td>-3.730666</td>\n",
       "      <td>0.0317</td>\n",
       "      <td>1</td>\n",
       "    </tr>\n",
       "    <tr>\n",
       "      <th>5</th>\n",
       "      <td>20</td>\n",
       "      <td>100</td>\n",
       "      <td>{'leaf_size': 20, 'radius': 100}</td>\n",
       "      <td>-3.683245</td>\n",
       "      <td>-3.769892</td>\n",
       "      <td>-3.753599</td>\n",
       "      <td>-3.705942</td>\n",
       "      <td>-3.740652</td>\n",
       "      <td>-3.730666</td>\n",
       "      <td>0.0317</td>\n",
       "      <td>1</td>\n",
       "    </tr>\n",
       "    <tr>\n",
       "      <th>8</th>\n",
       "      <td>30</td>\n",
       "      <td>100</td>\n",
       "      <td>{'leaf_size': 30, 'radius': 100}</td>\n",
       "      <td>-3.683245</td>\n",
       "      <td>-3.769892</td>\n",
       "      <td>-3.753599</td>\n",
       "      <td>-3.705942</td>\n",
       "      <td>-3.740652</td>\n",
       "      <td>-3.730666</td>\n",
       "      <td>0.0317</td>\n",
       "      <td>1</td>\n",
       "    </tr>\n",
       "    <tr>\n",
       "      <th>11</th>\n",
       "      <td>100</td>\n",
       "      <td>100</td>\n",
       "      <td>{'leaf_size': 100, 'radius': 100}</td>\n",
       "      <td>-3.683245</td>\n",
       "      <td>-3.769892</td>\n",
       "      <td>-3.753599</td>\n",
       "      <td>-3.705942</td>\n",
       "      <td>-3.740652</td>\n",
       "      <td>-3.730666</td>\n",
       "      <td>0.0317</td>\n",
       "      <td>1</td>\n",
       "    </tr>\n",
       "    <tr>\n",
       "      <th>0</th>\n",
       "      <td>10</td>\n",
       "      <td>10</td>\n",
       "      <td>{'leaf_size': 10, 'radius': 10}</td>\n",
       "      <td>NaN</td>\n",
       "      <td>NaN</td>\n",
       "      <td>NaN</td>\n",
       "      <td>NaN</td>\n",
       "      <td>NaN</td>\n",
       "      <td>NaN</td>\n",
       "      <td>NaN</td>\n",
       "      <td>5</td>\n",
       "    </tr>\n",
       "  </tbody>\n",
       "</table>\n",
       "</div>"
      ],
      "text/plain": [
       "   param_leaf_size param_radius                             params  \\\n",
       "2               10          100   {'leaf_size': 10, 'radius': 100}   \n",
       "5               20          100   {'leaf_size': 20, 'radius': 100}   \n",
       "8               30          100   {'leaf_size': 30, 'radius': 100}   \n",
       "11             100          100  {'leaf_size': 100, 'radius': 100}   \n",
       "0               10           10    {'leaf_size': 10, 'radius': 10}   \n",
       "\n",
       "    split0_test_score  split1_test_score  split2_test_score  \\\n",
       "2           -3.683245          -3.769892          -3.753599   \n",
       "5           -3.683245          -3.769892          -3.753599   \n",
       "8           -3.683245          -3.769892          -3.753599   \n",
       "11          -3.683245          -3.769892          -3.753599   \n",
       "0                 NaN                NaN                NaN   \n",
       "\n",
       "    split3_test_score  split4_test_score  mean_test_score  std_test_score  \\\n",
       "2           -3.705942          -3.740652        -3.730666          0.0317   \n",
       "5           -3.705942          -3.740652        -3.730666          0.0317   \n",
       "8           -3.705942          -3.740652        -3.730666          0.0317   \n",
       "11          -3.705942          -3.740652        -3.730666          0.0317   \n",
       "0                 NaN                NaN              NaN             NaN   \n",
       "\n",
       "    rank_test_score  \n",
       "2                 1  \n",
       "5                 1  \n",
       "8                 1  \n",
       "11                1  \n",
       "0                 5  "
      ]
     },
     "metadata": {},
     "output_type": "display_data"
    },
    {
     "data": {
      "text/html": [
       "<div>\n",
       "<style scoped>\n",
       "    .dataframe tbody tr th:only-of-type {\n",
       "        vertical-align: middle;\n",
       "    }\n",
       "\n",
       "    .dataframe tbody tr th {\n",
       "        vertical-align: top;\n",
       "    }\n",
       "\n",
       "    .dataframe thead th {\n",
       "        text-align: right;\n",
       "    }\n",
       "</style>\n",
       "<table border=\"1\" class=\"dataframe\">\n",
       "  <thead>\n",
       "    <tr style=\"text-align: right;\">\n",
       "      <th></th>\n",
       "      <th>train_score</th>\n",
       "      <th>test_score</th>\n",
       "    </tr>\n",
       "  </thead>\n",
       "  <tbody>\n",
       "    <tr>\n",
       "      <th>KNeighborsClassifier_pca</th>\n",
       "      <td>-3.538129</td>\n",
       "      <td>-0.038128</td>\n",
       "    </tr>\n",
       "    <tr>\n",
       "      <th>RadiusNeighborsClassifier_pca</th>\n",
       "      <td>-3.759121</td>\n",
       "      <td>-0.0</td>\n",
       "    </tr>\n",
       "    <tr>\n",
       "      <th>MLPClassifier_pca</th>\n",
       "      <td>-5.858095</td>\n",
       "      <td>-0.115209</td>\n",
       "    </tr>\n",
       "    <tr>\n",
       "      <th>RidgeClassifier_pca</th>\n",
       "      <td>-3.43718</td>\n",
       "      <td>-0.041039</td>\n",
       "    </tr>\n",
       "    <tr>\n",
       "      <th>KNeighborsClassifier_vif5</th>\n",
       "      <td>-3.431297</td>\n",
       "      <td>-0.047151</td>\n",
       "    </tr>\n",
       "    <tr>\n",
       "      <th>RadiusNeighborsClassifier_vif5</th>\n",
       "      <td>-3.730667</td>\n",
       "      <td>-0.0</td>\n",
       "    </tr>\n",
       "  </tbody>\n",
       "</table>\n",
       "</div>"
      ],
      "text/plain": [
       "                               train_score test_score\n",
       "KNeighborsClassifier_pca         -3.538129  -0.038128\n",
       "RadiusNeighborsClassifier_pca    -3.759121       -0.0\n",
       "MLPClassifier_pca                -5.858095  -0.115209\n",
       "RidgeClassifier_pca               -3.43718  -0.041039\n",
       "KNeighborsClassifier_vif5        -3.431297  -0.047151\n",
       "RadiusNeighborsClassifier_vif5   -3.730667       -0.0"
      ]
     },
     "metadata": {},
     "output_type": "display_data"
    }
   ],
   "source": [
    "rn_params = {\n",
    "    'radius': [10, 50, 100],\n",
    "    'leaf_size': [10, 20, 30, 100]\n",
    "}\n",
    "model, performance = score_optimization(rn_params, rn_clf, [x_train, y_train, x_test, y_test], performance, log_scorer, model_label)\n",
    "models.append(model)"
   ]
  },
  {
   "cell_type": "code",
   "execution_count": 34,
   "metadata": {
    "collapsed": false,
    "jupyter": {
     "outputs_hidden": false
    },
    "pycharm": {
     "name": "#%%\n"
    }
   },
   "outputs": [
    {
     "name": "stderr",
     "output_type": "stream",
     "text": [
      "C:\\Users\\jfcaliz\\Anaconda3\\envs\\Devo_tech_test\\lib\\site-packages\\sklearn\\neural_network\\_multilayer_perceptron.py:702: ConvergenceWarning: Stochastic Optimizer: Maximum iterations (1000) reached and the optimization hasn't converged yet.\n",
      "  warnings.warn(\n"
     ]
    },
    {
     "name": "stdout",
     "output_type": "stream",
     "text": [
      "\n",
      " ---------------------------------------- \n",
      " MLPClassifier \n",
      " ----------------------------------------\n",
      "Best parameters: \n",
      "\n",
      " {'learning_rate': 'adaptive', 'max_iter': 1000, 'solver': 'sgd'} \n",
      "\n",
      "TRAIN GROUP\n"
     ]
    },
    {
     "name": "stderr",
     "output_type": "stream",
     "text": [
      "C:\\Users\\jfcaliz\\Anaconda3\\envs\\Devo_tech_test\\lib\\site-packages\\sklearn\\neural_network\\_multilayer_perceptron.py:702: ConvergenceWarning: Stochastic Optimizer: Maximum iterations (1000) reached and the optimization hasn't converged yet.\n",
      "  warnings.warn(\n",
      "C:\\Users\\jfcaliz\\Anaconda3\\envs\\Devo_tech_test\\lib\\site-packages\\sklearn\\neural_network\\_multilayer_perceptron.py:702: ConvergenceWarning: Stochastic Optimizer: Maximum iterations (1000) reached and the optimization hasn't converged yet.\n",
      "  warnings.warn(\n",
      "C:\\Users\\jfcaliz\\Anaconda3\\envs\\Devo_tech_test\\lib\\site-packages\\sklearn\\neural_network\\_multilayer_perceptron.py:702: ConvergenceWarning: Stochastic Optimizer: Maximum iterations (1000) reached and the optimization hasn't converged yet.\n",
      "  warnings.warn(\n"
     ]
    },
    {
     "name": "stdout",
     "output_type": "stream",
     "text": [
      "\n",
      "Cross-validation scores: [-5.97499339 -5.92609634 -6.25406071]\n",
      "Mean score: -6.051716813602347\n",
      "\n",
      "TEST GROUP\n"
     ]
    },
    {
     "name": "stderr",
     "output_type": "stream",
     "text": [
      "C:\\Users\\jfcaliz\\Anaconda3\\envs\\Devo_tech_test\\lib\\site-packages\\sklearn\\neural_network\\_multilayer_perceptron.py:702: ConvergenceWarning: Stochastic Optimizer: Maximum iterations (1000) reached and the optimization hasn't converged yet.\n",
      "  warnings.warn(\n"
     ]
    },
    {
     "name": "stdout",
     "output_type": "stream",
     "text": [
      "\n",
      "Score: -0.15964399904256654\n"
     ]
    },
    {
     "data": {
      "image/png": "[encoded data removed]",
      "text/plain": [
       "<Figure size 1800x1800 with 2 Axes>"
      ]
     },
     "metadata": {
      "needs_background": "light"
     },
     "output_type": "display_data"
    },
    {
     "data": {
      "text/html": [
       "<div>\n",
       "<style scoped>\n",
       "    .dataframe tbody tr th:only-of-type {\n",
       "        vertical-align: middle;\n",
       "    }\n",
       "\n",
       "    .dataframe tbody tr th {\n",
       "        vertical-align: top;\n",
       "    }\n",
       "\n",
       "    .dataframe thead th {\n",
       "        text-align: right;\n",
       "    }\n",
       "</style>\n",
       "<table border=\"1\" class=\"dataframe\">\n",
       "  <thead>\n",
       "    <tr style=\"text-align: right;\">\n",
       "      <th></th>\n",
       "      <th>param_learning_rate</th>\n",
       "      <th>param_max_iter</th>\n",
       "      <th>param_solver</th>\n",
       "      <th>params</th>\n",
       "      <th>split0_test_score</th>\n",
       "      <th>split1_test_score</th>\n",
       "      <th>split2_test_score</th>\n",
       "      <th>split3_test_score</th>\n",
       "      <th>split4_test_score</th>\n",
       "      <th>mean_test_score</th>\n",
       "      <th>std_test_score</th>\n",
       "      <th>rank_test_score</th>\n",
       "    </tr>\n",
       "  </thead>\n",
       "  <tbody>\n",
       "    <tr>\n",
       "      <th>1</th>\n",
       "      <td>adaptive</td>\n",
       "      <td>1000</td>\n",
       "      <td>sgd</td>\n",
       "      <td>{'learning_rate': 'adaptive', 'max_iter': 1000...</td>\n",
       "      <td>-6.119884</td>\n",
       "      <td>-6.544745</td>\n",
       "      <td>-6.280849</td>\n",
       "      <td>-6.458740</td>\n",
       "      <td>-6.365714</td>\n",
       "      <td>-6.353986</td>\n",
       "      <td>0.146733</td>\n",
       "      <td>1</td>\n",
       "    </tr>\n",
       "    <tr>\n",
       "      <th>2</th>\n",
       "      <td>adaptive</td>\n",
       "      <td>1000</td>\n",
       "      <td>adam</td>\n",
       "      <td>{'learning_rate': 'adaptive', 'max_iter': 1000...</td>\n",
       "      <td>-7.385768</td>\n",
       "      <td>-7.806651</td>\n",
       "      <td>-7.389107</td>\n",
       "      <td>-7.360504</td>\n",
       "      <td>-6.866394</td>\n",
       "      <td>-7.361685</td>\n",
       "      <td>0.298208</td>\n",
       "      <td>2</td>\n",
       "    </tr>\n",
       "    <tr>\n",
       "      <th>0</th>\n",
       "      <td>adaptive</td>\n",
       "      <td>1000</td>\n",
       "      <td>lbfgs</td>\n",
       "      <td>{'learning_rate': 'adaptive', 'max_iter': 1000...</td>\n",
       "      <td>-8.486196</td>\n",
       "      <td>-9.467160</td>\n",
       "      <td>-8.039577</td>\n",
       "      <td>-8.596569</td>\n",
       "      <td>-8.892147</td>\n",
       "      <td>-8.696330</td>\n",
       "      <td>0.472854</td>\n",
       "      <td>3</td>\n",
       "    </tr>\n",
       "  </tbody>\n",
       "</table>\n",
       "</div>"
      ],
      "text/plain": [
       "  param_learning_rate param_max_iter param_solver  \\\n",
       "1            adaptive           1000          sgd   \n",
       "2            adaptive           1000         adam   \n",
       "0            adaptive           1000        lbfgs   \n",
       "\n",
       "                                              params  split0_test_score  \\\n",
       "1  {'learning_rate': 'adaptive', 'max_iter': 1000...          -6.119884   \n",
       "2  {'learning_rate': 'adaptive', 'max_iter': 1000...          -7.385768   \n",
       "0  {'learning_rate': 'adaptive', 'max_iter': 1000...          -8.486196   \n",
       "\n",
       "   split1_test_score  split2_test_score  split3_test_score  split4_test_score  \\\n",
       "1          -6.544745          -6.280849          -6.458740          -6.365714   \n",
       "2          -7.806651          -7.389107          -7.360504          -6.866394   \n",
       "0          -9.467160          -8.039577          -8.596569          -8.892147   \n",
       "\n",
       "   mean_test_score  std_test_score  rank_test_score  \n",
       "1        -6.353986        0.146733                1  \n",
       "2        -7.361685        0.298208                2  \n",
       "0        -8.696330        0.472854                3  "
      ]
     },
     "metadata": {},
     "output_type": "display_data"
    },
    {
     "data": {
      "text/html": [
       "<div>\n",
       "<style scoped>\n",
       "    .dataframe tbody tr th:only-of-type {\n",
       "        vertical-align: middle;\n",
       "    }\n",
       "\n",
       "    .dataframe tbody tr th {\n",
       "        vertical-align: top;\n",
       "    }\n",
       "\n",
       "    .dataframe thead th {\n",
       "        text-align: right;\n",
       "    }\n",
       "</style>\n",
       "<table border=\"1\" class=\"dataframe\">\n",
       "  <thead>\n",
       "    <tr style=\"text-align: right;\">\n",
       "      <th></th>\n",
       "      <th>train_score</th>\n",
       "      <th>test_score</th>\n",
       "    </tr>\n",
       "  </thead>\n",
       "  <tbody>\n",
       "    <tr>\n",
       "      <th>KNeighborsClassifier_pca</th>\n",
       "      <td>-3.538129</td>\n",
       "      <td>-0.038128</td>\n",
       "    </tr>\n",
       "    <tr>\n",
       "      <th>RadiusNeighborsClassifier_pca</th>\n",
       "      <td>-3.759121</td>\n",
       "      <td>-0.0</td>\n",
       "    </tr>\n",
       "    <tr>\n",
       "      <th>MLPClassifier_pca</th>\n",
       "      <td>-5.858095</td>\n",
       "      <td>-0.115209</td>\n",
       "    </tr>\n",
       "    <tr>\n",
       "      <th>RidgeClassifier_pca</th>\n",
       "      <td>-3.43718</td>\n",
       "      <td>-0.041039</td>\n",
       "    </tr>\n",
       "    <tr>\n",
       "      <th>KNeighborsClassifier_vif5</th>\n",
       "      <td>-3.431297</td>\n",
       "      <td>-0.047151</td>\n",
       "    </tr>\n",
       "    <tr>\n",
       "      <th>RadiusNeighborsClassifier_vif5</th>\n",
       "      <td>-3.730667</td>\n",
       "      <td>-0.0</td>\n",
       "    </tr>\n",
       "    <tr>\n",
       "      <th>MLPClassifier_vif5</th>\n",
       "      <td>-6.051717</td>\n",
       "      <td>-0.159644</td>\n",
       "    </tr>\n",
       "  </tbody>\n",
       "</table>\n",
       "</div>"
      ],
      "text/plain": [
       "                               train_score test_score\n",
       "KNeighborsClassifier_pca         -3.538129  -0.038128\n",
       "RadiusNeighborsClassifier_pca    -3.759121       -0.0\n",
       "MLPClassifier_pca                -5.858095  -0.115209\n",
       "RidgeClassifier_pca               -3.43718  -0.041039\n",
       "KNeighborsClassifier_vif5        -3.431297  -0.047151\n",
       "RadiusNeighborsClassifier_vif5   -3.730667       -0.0\n",
       "MLPClassifier_vif5               -6.051717  -0.159644"
      ]
     },
     "metadata": {},
     "output_type": "display_data"
    }
   ],
   "source": [
    "mlp_params = {\n",
    "    'solver': ['lbfgs', 'sgd', 'adam'],\n",
    "    'learning_rate': ['adaptive'],\n",
    "    'max_iter': [1000]\n",
    "}\n",
    "model, performance = score_optimization(mlp_params, mlp_clf, [x_train, y_train, x_test, y_test], performance, log_scorer, model_label)\n",
    "models.append(model)"
   ]
  },
  {
   "cell_type": "code",
   "execution_count": 35,
   "metadata": {
    "collapsed": false,
    "jupyter": {
     "outputs_hidden": false
    },
    "pycharm": {
     "name": "#%%\n"
    }
   },
   "outputs": [
    {
     "name": "stdout",
     "output_type": "stream",
     "text": [
      "\n",
      " ---------------------------------------- \n",
      " RidgeClassifier \n",
      " ----------------------------------------\n",
      "Best parameters: \n",
      "\n",
      " {'alpha': 0.1, 'fit_intercept': True} \n",
      "\n",
      "TRAIN GROUP\n",
      "\n",
      "Cross-validation scores: [-3.36151889 -3.32000862 -3.4407148 ]\n",
      "Mean score: -3.3740807686836116\n",
      "\n",
      "TEST GROUP\n",
      "\n",
      "Score: -0.04540456022145183\n"
     ]
    },
    {
     "data": {
      "image/png": "[encoded data removed]",
      "text/plain": [
       "<Figure size 1800x1800 with 2 Axes>"
      ]
     },
     "metadata": {
      "needs_background": "light"
     },
     "output_type": "display_data"
    },
    {
     "data": {
      "text/html": [
       "<div>\n",
       "<style scoped>\n",
       "    .dataframe tbody tr th:only-of-type {\n",
       "        vertical-align: middle;\n",
       "    }\n",
       "\n",
       "    .dataframe tbody tr th {\n",
       "        vertical-align: top;\n",
       "    }\n",
       "\n",
       "    .dataframe thead th {\n",
       "        text-align: right;\n",
       "    }\n",
       "</style>\n",
       "<table border=\"1\" class=\"dataframe\">\n",
       "  <thead>\n",
       "    <tr style=\"text-align: right;\">\n",
       "      <th></th>\n",
       "      <th>param_alpha</th>\n",
       "      <th>param_fit_intercept</th>\n",
       "      <th>params</th>\n",
       "      <th>split0_test_score</th>\n",
       "      <th>split1_test_score</th>\n",
       "      <th>split2_test_score</th>\n",
       "      <th>split3_test_score</th>\n",
       "      <th>split4_test_score</th>\n",
       "      <th>mean_test_score</th>\n",
       "      <th>std_test_score</th>\n",
       "      <th>rank_test_score</th>\n",
       "    </tr>\n",
       "  </thead>\n",
       "  <tbody>\n",
       "    <tr>\n",
       "      <th>0</th>\n",
       "      <td>0.1</td>\n",
       "      <td>True</td>\n",
       "      <td>{'alpha': 0.1, 'fit_intercept': True}</td>\n",
       "      <td>-3.270085</td>\n",
       "      <td>-3.448378</td>\n",
       "      <td>-3.337374</td>\n",
       "      <td>-3.350265</td>\n",
       "      <td>-3.471038</td>\n",
       "      <td>-3.375428</td>\n",
       "      <td>0.074352</td>\n",
       "      <td>1</td>\n",
       "    </tr>\n",
       "    <tr>\n",
       "      <th>2</th>\n",
       "      <td>1</td>\n",
       "      <td>True</td>\n",
       "      <td>{'alpha': 1, 'fit_intercept': True}</td>\n",
       "      <td>-3.270085</td>\n",
       "      <td>-3.448378</td>\n",
       "      <td>-3.337374</td>\n",
       "      <td>-3.350265</td>\n",
       "      <td>-3.471038</td>\n",
       "      <td>-3.375428</td>\n",
       "      <td>0.074352</td>\n",
       "      <td>1</td>\n",
       "    </tr>\n",
       "    <tr>\n",
       "      <th>4</th>\n",
       "      <td>10</td>\n",
       "      <td>True</td>\n",
       "      <td>{'alpha': 10, 'fit_intercept': True}</td>\n",
       "      <td>-3.270085</td>\n",
       "      <td>-3.448378</td>\n",
       "      <td>-3.337374</td>\n",
       "      <td>-3.350265</td>\n",
       "      <td>-3.471038</td>\n",
       "      <td>-3.375428</td>\n",
       "      <td>0.074352</td>\n",
       "      <td>1</td>\n",
       "    </tr>\n",
       "    <tr>\n",
       "      <th>6</th>\n",
       "      <td>100</td>\n",
       "      <td>True</td>\n",
       "      <td>{'alpha': 100, 'fit_intercept': True}</td>\n",
       "      <td>-3.279406</td>\n",
       "      <td>-3.452106</td>\n",
       "      <td>-3.330882</td>\n",
       "      <td>-3.352373</td>\n",
       "      <td>-3.472903</td>\n",
       "      <td>-3.377534</td>\n",
       "      <td>0.073614</td>\n",
       "      <td>4</td>\n",
       "    </tr>\n",
       "    <tr>\n",
       "      <th>7</th>\n",
       "      <td>100</td>\n",
       "      <td>False</td>\n",
       "      <td>{'alpha': 100, 'fit_intercept': False}</td>\n",
       "      <td>-3.791181</td>\n",
       "      <td>-3.623508</td>\n",
       "      <td>-3.543126</td>\n",
       "      <td>-3.664816</td>\n",
       "      <td>-3.796014</td>\n",
       "      <td>-3.683729</td>\n",
       "      <td>0.097885</td>\n",
       "      <td>5</td>\n",
       "    </tr>\n",
       "  </tbody>\n",
       "</table>\n",
       "</div>"
      ],
      "text/plain": [
       "  param_alpha param_fit_intercept                                  params  \\\n",
       "0         0.1                True   {'alpha': 0.1, 'fit_intercept': True}   \n",
       "2           1                True     {'alpha': 1, 'fit_intercept': True}   \n",
       "4          10                True    {'alpha': 10, 'fit_intercept': True}   \n",
       "6         100                True   {'alpha': 100, 'fit_intercept': True}   \n",
       "7         100               False  {'alpha': 100, 'fit_intercept': False}   \n",
       "\n",
       "   split0_test_score  split1_test_score  split2_test_score  split3_test_score  \\\n",
       "0          -3.270085          -3.448378          -3.337374          -3.350265   \n",
       "2          -3.270085          -3.448378          -3.337374          -3.350265   \n",
       "4          -3.270085          -3.448378          -3.337374          -3.350265   \n",
       "6          -3.279406          -3.452106          -3.330882          -3.352373   \n",
       "7          -3.791181          -3.623508          -3.543126          -3.664816   \n",
       "\n",
       "   split4_test_score  mean_test_score  std_test_score  rank_test_score  \n",
       "0          -3.471038        -3.375428        0.074352                1  \n",
       "2          -3.471038        -3.375428        0.074352                1  \n",
       "4          -3.471038        -3.375428        0.074352                1  \n",
       "6          -3.472903        -3.377534        0.073614                4  \n",
       "7          -3.796014        -3.683729        0.097885                5  "
      ]
     },
     "metadata": {},
     "output_type": "display_data"
    },
    {
     "data": {
      "text/html": [
       "<div>\n",
       "<style scoped>\n",
       "    .dataframe tbody tr th:only-of-type {\n",
       "        vertical-align: middle;\n",
       "    }\n",
       "\n",
       "    .dataframe tbody tr th {\n",
       "        vertical-align: top;\n",
       "    }\n",
       "\n",
       "    .dataframe thead th {\n",
       "        text-align: right;\n",
       "    }\n",
       "</style>\n",
       "<table border=\"1\" class=\"dataframe\">\n",
       "  <thead>\n",
       "    <tr style=\"text-align: right;\">\n",
       "      <th></th>\n",
       "      <th>train_score</th>\n",
       "      <th>test_score</th>\n",
       "    </tr>\n",
       "  </thead>\n",
       "  <tbody>\n",
       "    <tr>\n",
       "      <th>KNeighborsClassifier_pca</th>\n",
       "      <td>-3.538129</td>\n",
       "      <td>-0.038128</td>\n",
       "    </tr>\n",
       "    <tr>\n",
       "      <th>RadiusNeighborsClassifier_pca</th>\n",
       "      <td>-3.759121</td>\n",
       "      <td>-0.0</td>\n",
       "    </tr>\n",
       "    <tr>\n",
       "      <th>MLPClassifier_pca</th>\n",
       "      <td>-5.858095</td>\n",
       "      <td>-0.115209</td>\n",
       "    </tr>\n",
       "    <tr>\n",
       "      <th>RidgeClassifier_pca</th>\n",
       "      <td>-3.43718</td>\n",
       "      <td>-0.041039</td>\n",
       "    </tr>\n",
       "    <tr>\n",
       "      <th>KNeighborsClassifier_vif5</th>\n",
       "      <td>-3.431297</td>\n",
       "      <td>-0.047151</td>\n",
       "    </tr>\n",
       "    <tr>\n",
       "      <th>RadiusNeighborsClassifier_vif5</th>\n",
       "      <td>-3.730667</td>\n",
       "      <td>-0.0</td>\n",
       "    </tr>\n",
       "    <tr>\n",
       "      <th>MLPClassifier_vif5</th>\n",
       "      <td>-6.051717</td>\n",
       "      <td>-0.159644</td>\n",
       "    </tr>\n",
       "    <tr>\n",
       "      <th>RidgeClassifier_vif5</th>\n",
       "      <td>-3.374081</td>\n",
       "      <td>-0.045405</td>\n",
       "    </tr>\n",
       "  </tbody>\n",
       "</table>\n",
       "</div>"
      ],
      "text/plain": [
       "                               train_score test_score\n",
       "KNeighborsClassifier_pca         -3.538129  -0.038128\n",
       "RadiusNeighborsClassifier_pca    -3.759121       -0.0\n",
       "MLPClassifier_pca                -5.858095  -0.115209\n",
       "RidgeClassifier_pca               -3.43718  -0.041039\n",
       "KNeighborsClassifier_vif5        -3.431297  -0.047151\n",
       "RadiusNeighborsClassifier_vif5   -3.730667       -0.0\n",
       "MLPClassifier_vif5               -6.051717  -0.159644\n",
       "RidgeClassifier_vif5             -3.374081  -0.045405"
      ]
     },
     "metadata": {},
     "output_type": "display_data"
    }
   ],
   "source": [
    "rdg_params = {\n",
    "    'alpha': [0.1, 1, 10, 100],\n",
    "    'fit_intercept': [True, False]\n",
    "}\n",
    "model, performance = score_optimization(rdg_params, rdg_clf, [x_train, y_train, x_test, y_test], performance, log_scorer, model_label)\n",
    "models.append(model)"
   ]
  },
  {
   "cell_type": "markdown",
   "metadata": {
    "pycharm": {
     "name": "#%% md\n"
    }
   },
   "source": [
    "# Choosing best model\n",
    "\n",
    "After a couple of rounds trying different models and parameters, it doesn't seem that our models are performing very well.\n",
    "\n",
    "In any case, due to a lack of additional time to work on the problem, we will take the best performing model: **MLPClassifier** after filtering the variables by a **maximum VIF of 5**."
   ]
  },
  {
   "cell_type": "code",
   "execution_count": 41,
   "metadata": {
    "collapsed": false,
    "jupyter": {
     "outputs_hidden": false
    },
    "pycharm": {
     "name": "#%%\n"
    }
   },
   "outputs": [
    {
     "data": {
      "text/plain": [
       "[KNeighborsClassifier(leaf_size=10, n_neighbors=10),\n",
       " RadiusNeighborsClassifier(leaf_size=10, radius=100),\n",
       " MLPClassifier(learning_rate='adaptive', max_iter=1000, solver='sgd'),\n",
       " RidgeClassifier(alpha=100),\n",
       " KNeighborsClassifier(leaf_size=10, n_neighbors=10),\n",
       " RadiusNeighborsClassifier(leaf_size=10, radius=100),\n",
       " MLPClassifier(learning_rate='adaptive', max_iter=1000, solver='sgd'),\n",
       " RidgeClassifier(alpha=0.1),\n",
       " KNeighborsClassifier(leaf_size=10, n_neighbors=10)]"
      ]
     },
     "execution_count": 41,
     "metadata": {},
     "output_type": "execute_result"
    }
   ],
   "source": [
    "models"
   ]
  },
  {
   "cell_type": "code",
   "execution_count": 42,
   "metadata": {
    "collapsed": false,
    "jupyter": {
     "outputs_hidden": false
    },
    "pycharm": {
     "name": "#%%\n"
    }
   },
   "outputs": [],
   "source": [
    "best_model = models[6]"
   ]
  },
  {
   "cell_type": "markdown",
   "metadata": {
    "pycharm": {
     "name": "#%% md\n"
    }
   },
   "source": [
    "Saving the chosen model for further predictions."
   ]
  },
  {
   "cell_type": "code",
   "execution_count": 48,
   "metadata": {
    "collapsed": false,
    "jupyter": {
     "outputs_hidden": false
    },
    "pycharm": {
     "name": "#%%\n"
    }
   },
   "outputs": [],
   "source": [
    "from pickle import dump\n",
    "\n",
    "with open('./model.pkl', 'wb') as model:\n",
    "    dump(best_model, model)"
   ]
  },
  {
   "cell_type": "markdown",
   "metadata": {
    "pycharm": {
     "name": "#%% md\n"
    }
   },
   "source": [
    "# Predicting test data\n",
    "\n",
    "The test data needs to go over the same transformations previously done to the training data that the chosen model received."
   ]
  },
  {
   "cell_type": "code",
   "execution_count": 53,
   "metadata": {
    "collapsed": false,
    "jupyter": {
     "outputs_hidden": false
    },
    "pycharm": {
     "name": "#%%\n"
    }
   },
   "outputs": [
    {
     "data": {
      "text/html": [
       "<div>\n",
       "<style scoped>\n",
       "    .dataframe tbody tr th:only-of-type {\n",
       "        vertical-align: middle;\n",
       "    }\n",
       "\n",
       "    .dataframe tbody tr th {\n",
       "        vertical-align: top;\n",
       "    }\n",
       "\n",
       "    .dataframe thead th {\n",
       "        text-align: right;\n",
       "    }\n",
       "</style>\n",
       "<table border=\"1\" class=\"dataframe\">\n",
       "  <thead>\n",
       "    <tr style=\"text-align: right;\">\n",
       "      <th></th>\n",
       "      <th>0</th>\n",
       "      <th>1</th>\n",
       "      <th>2</th>\n",
       "      <th>3</th>\n",
       "      <th>4</th>\n",
       "      <th>5</th>\n",
       "      <th>6</th>\n",
       "      <th>7</th>\n",
       "      <th>8</th>\n",
       "      <th>9</th>\n",
       "      <th>...</th>\n",
       "      <th>604</th>\n",
       "      <th>605</th>\n",
       "      <th>606</th>\n",
       "      <th>607</th>\n",
       "      <th>608</th>\n",
       "      <th>609</th>\n",
       "      <th>610</th>\n",
       "      <th>611</th>\n",
       "      <th>612</th>\n",
       "      <th>613</th>\n",
       "    </tr>\n",
       "    <tr>\n",
       "      <th>id</th>\n",
       "      <th></th>\n",
       "      <th></th>\n",
       "      <th></th>\n",
       "      <th></th>\n",
       "      <th></th>\n",
       "      <th></th>\n",
       "      <th></th>\n",
       "      <th></th>\n",
       "      <th></th>\n",
       "      <th></th>\n",
       "      <th></th>\n",
       "      <th></th>\n",
       "      <th></th>\n",
       "      <th></th>\n",
       "      <th></th>\n",
       "      <th></th>\n",
       "      <th></th>\n",
       "      <th></th>\n",
       "      <th></th>\n",
       "      <th></th>\n",
       "      <th></th>\n",
       "    </tr>\n",
       "  </thead>\n",
       "  <tbody>\n",
       "    <tr>\n",
       "      <th>cb509e9c</th>\n",
       "      <td>0.0</td>\n",
       "      <td>0.0</td>\n",
       "      <td>1.0</td>\n",
       "      <td>0.454456</td>\n",
       "      <td>-0.062303</td>\n",
       "      <td>0.102011</td>\n",
       "      <td>0.174187</td>\n",
       "      <td>-0.242218</td>\n",
       "      <td>-0.245004</td>\n",
       "      <td>0.524494</td>\n",
       "      <td>...</td>\n",
       "      <td>-1.161339</td>\n",
       "      <td>0.165235</td>\n",
       "      <td>0.277993</td>\n",
       "      <td>-0.156835</td>\n",
       "      <td>-0.231580</td>\n",
       "      <td>0.305735</td>\n",
       "      <td>0.238762</td>\n",
       "      <td>0.285687</td>\n",
       "      <td>-0.716731</td>\n",
       "      <td>-0.616889</td>\n",
       "    </tr>\n",
       "    <tr>\n",
       "      <th>cb5223fc</th>\n",
       "      <td>0.0</td>\n",
       "      <td>0.5</td>\n",
       "      <td>1.0</td>\n",
       "      <td>-0.339489</td>\n",
       "      <td>-0.676765</td>\n",
       "      <td>0.070726</td>\n",
       "      <td>0.119867</td>\n",
       "      <td>0.499732</td>\n",
       "      <td>0.454001</td>\n",
       "      <td>1.209665</td>\n",
       "      <td>...</td>\n",
       "      <td>-1.385156</td>\n",
       "      <td>-0.327637</td>\n",
       "      <td>0.368173</td>\n",
       "      <td>0.794287</td>\n",
       "      <td>0.193065</td>\n",
       "      <td>-1.658120</td>\n",
       "      <td>-0.141212</td>\n",
       "      <td>1.815160</td>\n",
       "      <td>0.217868</td>\n",
       "      <td>0.591477</td>\n",
       "    </tr>\n",
       "    <tr>\n",
       "      <th>cb4eefd4</th>\n",
       "      <td>0.0</td>\n",
       "      <td>0.5</td>\n",
       "      <td>1.0</td>\n",
       "      <td>-0.436664</td>\n",
       "      <td>0.058786</td>\n",
       "      <td>-0.087263</td>\n",
       "      <td>-0.421193</td>\n",
       "      <td>-0.557782</td>\n",
       "      <td>-0.053770</td>\n",
       "      <td>1.083885</td>\n",
       "      <td>...</td>\n",
       "      <td>0.662317</td>\n",
       "      <td>-1.009442</td>\n",
       "      <td>1.052441</td>\n",
       "      <td>0.578742</td>\n",
       "      <td>0.149429</td>\n",
       "      <td>0.370849</td>\n",
       "      <td>0.793962</td>\n",
       "      <td>0.317599</td>\n",
       "      <td>-0.206454</td>\n",
       "      <td>-1.492078</td>\n",
       "    </tr>\n",
       "    <tr>\n",
       "      <th>cb597490</th>\n",
       "      <td>0.0</td>\n",
       "      <td>0.5</td>\n",
       "      <td>1.0</td>\n",
       "      <td>-0.347084</td>\n",
       "      <td>-0.213416</td>\n",
       "      <td>-0.103687</td>\n",
       "      <td>0.343242</td>\n",
       "      <td>0.270215</td>\n",
       "      <td>0.406410</td>\n",
       "      <td>0.920276</td>\n",
       "      <td>...</td>\n",
       "      <td>-0.140814</td>\n",
       "      <td>-0.181003</td>\n",
       "      <td>1.211679</td>\n",
       "      <td>-0.704415</td>\n",
       "      <td>-0.239657</td>\n",
       "      <td>-0.203562</td>\n",
       "      <td>-0.288826</td>\n",
       "      <td>-0.095545</td>\n",
       "      <td>0.584516</td>\n",
       "      <td>0.597856</td>\n",
       "    </tr>\n",
       "    <tr>\n",
       "      <th>cb54218e</th>\n",
       "      <td>0.0</td>\n",
       "      <td>0.5</td>\n",
       "      <td>0.0</td>\n",
       "      <td>-0.384851</td>\n",
       "      <td>0.369218</td>\n",
       "      <td>-1.367263</td>\n",
       "      <td>1.220915</td>\n",
       "      <td>-3.443023</td>\n",
       "      <td>2.271165</td>\n",
       "      <td>-1.131927</td>\n",
       "      <td>...</td>\n",
       "      <td>-2.220204</td>\n",
       "      <td>4.652913</td>\n",
       "      <td>6.826422</td>\n",
       "      <td>-2.783343</td>\n",
       "      <td>-0.993893</td>\n",
       "      <td>5.604880</td>\n",
       "      <td>1.116992</td>\n",
       "      <td>3.851049</td>\n",
       "      <td>-6.270188</td>\n",
       "      <td>-5.481621</td>\n",
       "    </tr>\n",
       "  </tbody>\n",
       "</table>\n",
       "<p>5 rows × 614 columns</p>\n",
       "</div>"
      ],
      "text/plain": [
       "          0    1    2         3         4         5         6         7    \\\n",
       "id                                                                          \n",
       "cb509e9c  0.0  0.0  1.0  0.454456 -0.062303  0.102011  0.174187 -0.242218   \n",
       "cb5223fc  0.0  0.5  1.0 -0.339489 -0.676765  0.070726  0.119867  0.499732   \n",
       "cb4eefd4  0.0  0.5  1.0 -0.436664  0.058786 -0.087263 -0.421193 -0.557782   \n",
       "cb597490  0.0  0.5  1.0 -0.347084 -0.213416 -0.103687  0.343242  0.270215   \n",
       "cb54218e  0.0  0.5  0.0 -0.384851  0.369218 -1.367263  1.220915 -3.443023   \n",
       "\n",
       "               8         9    ...       604       605       606       607  \\\n",
       "id                            ...                                           \n",
       "cb509e9c -0.245004  0.524494  ... -1.161339  0.165235  0.277993 -0.156835   \n",
       "cb5223fc  0.454001  1.209665  ... -1.385156 -0.327637  0.368173  0.794287   \n",
       "cb4eefd4 -0.053770  1.083885  ...  0.662317 -1.009442  1.052441  0.578742   \n",
       "cb597490  0.406410  0.920276  ... -0.140814 -0.181003  1.211679 -0.704415   \n",
       "cb54218e  2.271165 -1.131927  ... -2.220204  4.652913  6.826422 -2.783343   \n",
       "\n",
       "               608       609       610       611       612       613  \n",
       "id                                                                    \n",
       "cb509e9c -0.231580  0.305735  0.238762  0.285687 -0.716731 -0.616889  \n",
       "cb5223fc  0.193065 -1.658120 -0.141212  1.815160  0.217868  0.591477  \n",
       "cb4eefd4  0.149429  0.370849  0.793962  0.317599 -0.206454 -1.492078  \n",
       "cb597490 -0.239657 -0.203562 -0.288826 -0.095545  0.584516  0.597856  \n",
       "cb54218e -0.993893  5.604880  1.116992  3.851049 -6.270188 -5.481621  \n",
       "\n",
       "[5 rows x 614 columns]"
      ]
     },
     "execution_count": 53,
     "metadata": {},
     "output_type": "execute_result"
    }
   ],
   "source": [
    "test_data = pd.read_csv('test_data.csv')\n",
    "\n",
    "# Initial transformations\n",
    "test_data['id'] = X['id'].str.split('-', expand=True)[0]\n",
    "test_data.set_index('id', inplace=True)\n",
    "\n",
    "# Getting dummy variables\n",
    "test_data['group'] = pd.get_dummies(test_data['group'], drop_first=True).values\n",
    "test_data['dose'] = pd.get_dummies(test_data['dose'], drop_first=True).values\n",
    "\n",
    "# Adjusting columns for VIF < 5\n",
    "test_data = test_data[VIF_5]\n",
    "\n",
    "# Rescaling the data\n",
    "scaled_test_data = vif5_scaler.transform(test_data)\n",
    "\n",
    "scaled_test_data = pd.DataFrame(scaled_test_data, index=test_data.index)\n",
    "scaled_test_data.head()"
   ]
  },
  {
   "cell_type": "code",
   "execution_count": 56,
   "metadata": {
    "collapsed": false,
    "jupyter": {
     "outputs_hidden": false
    },
    "pycharm": {
     "name": "#%%\n"
    }
   },
   "outputs": [
    {
     "data": {
      "text/html": [
       "<div>\n",
       "<style scoped>\n",
       "    .dataframe tbody tr th:only-of-type {\n",
       "        vertical-align: middle;\n",
       "    }\n",
       "\n",
       "    .dataframe tbody tr th {\n",
       "        vertical-align: top;\n",
       "    }\n",
       "\n",
       "    .dataframe thead th {\n",
       "        text-align: right;\n",
       "    }\n",
       "</style>\n",
       "<table border=\"1\" class=\"dataframe\">\n",
       "  <thead>\n",
       "    <tr style=\"text-align: right;\">\n",
       "      <th></th>\n",
       "      <th>mech-0</th>\n",
       "      <th>mech-1</th>\n",
       "      <th>mech-2</th>\n",
       "      <th>mech-3</th>\n",
       "      <th>mech-4</th>\n",
       "      <th>mech-5</th>\n",
       "      <th>mech-6</th>\n",
       "      <th>mech-7</th>\n",
       "      <th>mech-8</th>\n",
       "      <th>mech-9</th>\n",
       "      <th>...</th>\n",
       "      <th>mech-196</th>\n",
       "      <th>mech-197</th>\n",
       "      <th>mech-198</th>\n",
       "      <th>mech-199</th>\n",
       "      <th>mech-200</th>\n",
       "      <th>mech-201</th>\n",
       "      <th>mech-202</th>\n",
       "      <th>mech-203</th>\n",
       "      <th>mech-204</th>\n",
       "      <th>mech-205</th>\n",
       "    </tr>\n",
       "    <tr>\n",
       "      <th>id</th>\n",
       "      <th></th>\n",
       "      <th></th>\n",
       "      <th></th>\n",
       "      <th></th>\n",
       "      <th></th>\n",
       "      <th></th>\n",
       "      <th></th>\n",
       "      <th></th>\n",
       "      <th></th>\n",
       "      <th></th>\n",
       "      <th></th>\n",
       "      <th></th>\n",
       "      <th></th>\n",
       "      <th></th>\n",
       "      <th></th>\n",
       "      <th></th>\n",
       "      <th></th>\n",
       "      <th></th>\n",
       "      <th></th>\n",
       "      <th></th>\n",
       "      <th></th>\n",
       "    </tr>\n",
       "  </thead>\n",
       "  <tbody>\n",
       "    <tr>\n",
       "      <th>cb509e9c</th>\n",
       "      <td>0</td>\n",
       "      <td>0</td>\n",
       "      <td>0</td>\n",
       "      <td>0</td>\n",
       "      <td>0</td>\n",
       "      <td>0</td>\n",
       "      <td>0</td>\n",
       "      <td>0</td>\n",
       "      <td>0</td>\n",
       "      <td>0</td>\n",
       "      <td>...</td>\n",
       "      <td>0</td>\n",
       "      <td>0</td>\n",
       "      <td>0</td>\n",
       "      <td>0</td>\n",
       "      <td>0</td>\n",
       "      <td>0</td>\n",
       "      <td>0</td>\n",
       "      <td>0</td>\n",
       "      <td>0</td>\n",
       "      <td>0</td>\n",
       "    </tr>\n",
       "    <tr>\n",
       "      <th>cb5223fc</th>\n",
       "      <td>0</td>\n",
       "      <td>0</td>\n",
       "      <td>0</td>\n",
       "      <td>0</td>\n",
       "      <td>0</td>\n",
       "      <td>0</td>\n",
       "      <td>0</td>\n",
       "      <td>0</td>\n",
       "      <td>0</td>\n",
       "      <td>0</td>\n",
       "      <td>...</td>\n",
       "      <td>0</td>\n",
       "      <td>0</td>\n",
       "      <td>0</td>\n",
       "      <td>0</td>\n",
       "      <td>0</td>\n",
       "      <td>0</td>\n",
       "      <td>0</td>\n",
       "      <td>0</td>\n",
       "      <td>0</td>\n",
       "      <td>0</td>\n",
       "    </tr>\n",
       "    <tr>\n",
       "      <th>cb4eefd4</th>\n",
       "      <td>0</td>\n",
       "      <td>0</td>\n",
       "      <td>0</td>\n",
       "      <td>0</td>\n",
       "      <td>0</td>\n",
       "      <td>0</td>\n",
       "      <td>0</td>\n",
       "      <td>0</td>\n",
       "      <td>0</td>\n",
       "      <td>0</td>\n",
       "      <td>...</td>\n",
       "      <td>0</td>\n",
       "      <td>0</td>\n",
       "      <td>0</td>\n",
       "      <td>0</td>\n",
       "      <td>0</td>\n",
       "      <td>0</td>\n",
       "      <td>0</td>\n",
       "      <td>0</td>\n",
       "      <td>0</td>\n",
       "      <td>0</td>\n",
       "    </tr>\n",
       "    <tr>\n",
       "      <th>cb597490</th>\n",
       "      <td>0</td>\n",
       "      <td>0</td>\n",
       "      <td>0</td>\n",
       "      <td>0</td>\n",
       "      <td>0</td>\n",
       "      <td>0</td>\n",
       "      <td>0</td>\n",
       "      <td>0</td>\n",
       "      <td>0</td>\n",
       "      <td>0</td>\n",
       "      <td>...</td>\n",
       "      <td>0</td>\n",
       "      <td>0</td>\n",
       "      <td>0</td>\n",
       "      <td>0</td>\n",
       "      <td>0</td>\n",
       "      <td>0</td>\n",
       "      <td>0</td>\n",
       "      <td>0</td>\n",
       "      <td>0</td>\n",
       "      <td>0</td>\n",
       "    </tr>\n",
       "    <tr>\n",
       "      <th>cb54218e</th>\n",
       "      <td>0</td>\n",
       "      <td>0</td>\n",
       "      <td>0</td>\n",
       "      <td>0</td>\n",
       "      <td>0</td>\n",
       "      <td>0</td>\n",
       "      <td>0</td>\n",
       "      <td>0</td>\n",
       "      <td>0</td>\n",
       "      <td>0</td>\n",
       "      <td>...</td>\n",
       "      <td>0</td>\n",
       "      <td>0</td>\n",
       "      <td>0</td>\n",
       "      <td>0</td>\n",
       "      <td>0</td>\n",
       "      <td>0</td>\n",
       "      <td>0</td>\n",
       "      <td>0</td>\n",
       "      <td>0</td>\n",
       "      <td>0</td>\n",
       "    </tr>\n",
       "  </tbody>\n",
       "</table>\n",
       "<p>5 rows × 206 columns</p>\n",
       "</div>"
      ],
      "text/plain": [
       "          mech-0  mech-1  mech-2  mech-3  mech-4  mech-5  mech-6  mech-7  \\\n",
       "id                                                                         \n",
       "cb509e9c       0       0       0       0       0       0       0       0   \n",
       "cb5223fc       0       0       0       0       0       0       0       0   \n",
       "cb4eefd4       0       0       0       0       0       0       0       0   \n",
       "cb597490       0       0       0       0       0       0       0       0   \n",
       "cb54218e       0       0       0       0       0       0       0       0   \n",
       "\n",
       "          mech-8  mech-9  ...  mech-196  mech-197  mech-198  mech-199  \\\n",
       "id                        ...                                           \n",
       "cb509e9c       0       0  ...         0         0         0         0   \n",
       "cb5223fc       0       0  ...         0         0         0         0   \n",
       "cb4eefd4       0       0  ...         0         0         0         0   \n",
       "cb597490       0       0  ...         0         0         0         0   \n",
       "cb54218e       0       0  ...         0         0         0         0   \n",
       "\n",
       "          mech-200  mech-201  mech-202  mech-203  mech-204  mech-205  \n",
       "id                                                                    \n",
       "cb509e9c         0         0         0         0         0         0  \n",
       "cb5223fc         0         0         0         0         0         0  \n",
       "cb4eefd4         0         0         0         0         0         0  \n",
       "cb597490         0         0         0         0         0         0  \n",
       "cb54218e         0         0         0         0         0         0  \n",
       "\n",
       "[5 rows x 206 columns]"
      ]
     },
     "execution_count": 56,
     "metadata": {},
     "output_type": "execute_result"
    }
   ],
   "source": [
    "test_predict = best_model.predict(scaled_test_data)\n",
    "test_predict = pd.DataFrame(test_predict, columns=y_features.columns, index=test_data.index)\n",
    "test_predict.head()"
   ]
  },
  {
   "cell_type": "markdown",
   "metadata": {
    "pycharm": {
     "name": "#%% md\n"
    }
   },
   "source": [
    "Finally, the predictions are saved in a csv file for submission."
   ]
  },
  {
   "cell_type": "code",
   "execution_count": 57,
   "metadata": {
    "collapsed": false,
    "jupyter": {
     "outputs_hidden": false
    },
    "pycharm": {
     "name": "#%%\n"
    }
   },
   "outputs": [],
   "source": [
    "test_predict.to_csv('test_targets.csv')"
   ]
  }
 ],
 "metadata": {
  "kernelspec": {
   "display_name": "Python 3 (ipykernel)",
   "language": "python",
   "name": "python3"
  },
  "language_info": {
   "codemirror_mode": {
    "name": "ipython",
    "version": 3
   },
   "file_extension": ".py",
   "mimetype": "text/x-python",
   "name": "python",
   "nbconvert_exporter": "python",
   "pygments_lexer": "ipython3",
   "version": "3.9.12"
  }
 },
 "nbformat": 4,
 "nbformat_minor": 4
}
